{
 "cells": [
  {
   "cell_type": "code",
   "execution_count": 1,
   "metadata": {},
   "outputs": [
    {
     "name": "stdout",
     "output_type": "stream",
     "text": [
      "Epoch 1/10\n",
      "1875/1875 [==============================] - 15s 7ms/step - loss: 0.1863 - accuracy: 0.9439 - val_loss: 0.1033 - val_accuracy: 0.9677\n",
      "Epoch 2/10\n",
      "1875/1875 [==============================] - 14s 7ms/step - loss: 0.0796 - accuracy: 0.9747 - val_loss: 0.0955 - val_accuracy: 0.9704\n",
      "Epoch 3/10\n",
      "1875/1875 [==============================] - 14s 7ms/step - loss: 0.0546 - accuracy: 0.9833 - val_loss: 0.0733 - val_accuracy: 0.9776\n",
      "Epoch 4/10\n",
      "1875/1875 [==============================] - 15s 8ms/step - loss: 0.0415 - accuracy: 0.9874 - val_loss: 0.0754 - val_accuracy: 0.9762\n",
      "Epoch 5/10\n",
      "1875/1875 [==============================] - 13s 7ms/step - loss: 0.0318 - accuracy: 0.9894 - val_loss: 0.0826 - val_accuracy: 0.9793\n",
      "Epoch 6/10\n",
      "1875/1875 [==============================] - 14s 7ms/step - loss: 0.0258 - accuracy: 0.9918 - val_loss: 0.0749 - val_accuracy: 0.9785\n",
      "Epoch 7/10\n",
      "1875/1875 [==============================] - 13s 7ms/step - loss: 0.0217 - accuracy: 0.9926 - val_loss: 0.0867 - val_accuracy: 0.9769\n",
      "Epoch 8/10\n",
      "1875/1875 [==============================] - 14s 7ms/step - loss: 0.0212 - accuracy: 0.9929 - val_loss: 0.0820 - val_accuracy: 0.9797\n",
      "Epoch 9/10\n",
      "1875/1875 [==============================] - 15s 8ms/step - loss: 0.0174 - accuracy: 0.9944 - val_loss: 0.0798 - val_accuracy: 0.9796\n",
      "Epoch 10/10\n",
      "1875/1875 [==============================] - 13s 7ms/step - loss: 0.0147 - accuracy: 0.9957 - val_loss: 0.0870 - val_accuracy: 0.9786\n",
      "313/313 [==============================] - 1s 2ms/step - loss: 0.0870 - accuracy: 0.9786\n",
      "Test accuracy: 0.978600025177002\n"
     ]
    }
   ],
   "source": [
    "import os\n",
    "import numpy as np\n",
    "from keras.datasets import mnist\n",
    "from keras.models import Sequential\n",
    "from keras.layers import Dense, Flatten\n",
    "from keras.utils import to_categorical\n",
    "\n",
    "# Загрузка данных MNIST\n",
    "(x_train, y_train), (x_test, y_test) = mnist.load_data()\n",
    "\n",
    "# Нормализация данных\n",
    "x_train = x_train / 255.0\n",
    "x_test = x_test / 255.0\n",
    "\n",
    "# Преобразование категориальных меток в формат one-hot\n",
    "y_train = to_categorical(y_train, num_classes=10)\n",
    "y_test = to_categorical(y_test, num_classes=10)\n",
    "\n",
    "# Создание модели нейронной сети\n",
    "model = Sequential(\n",
    "    [\n",
    "        Flatten(input_shape=(28, 28)),\n",
    "        Dense(512, activation=\"relu\"),  # Полносвязный слой с 512 нейронами и функцией активации ReLU\n",
    "        Dense(128, activation=\"relu\"),  # Полносвязный слой с 128 нейронами и функцией активации ReLU\n",
    "        Dense(10, activation=\"softmax\"),  # Выходной слой с 10 нейронами (по числу классов) и функцией активации Softmax\n",
    "    ]\n",
    ")\n",
    "\n",
    "# Компиляция модели\n",
    "model.compile(optimizer=\"adam\", loss=\"categorical_crossentropy\", metrics=[\"accuracy\"])\n",
    "\n",
    "# Обучение модели\n",
    "model.fit(x_train, y_train, epochs=10, batch_size=32, validation_data=(x_test, y_test))\n",
    "\n",
    "# Оценка точности модели на тестовых данных\n",
    "test_loss, test_accuracy = model.evaluate(x_test, y_test)\n",
    "print(f\"Test accuracy: {test_accuracy}\")"
   ]
  },
  {
   "cell_type": "code",
   "execution_count": 5,
   "metadata": {},
   "outputs": [
    {
     "name": "stdout",
     "output_type": "stream",
     "text": [
      "1/1 [==============================] - 0s 71ms/step\n",
      "1/1 [==============================] - 0s 23ms/step\n",
      "1/1 [==============================] - 0s 22ms/step\n",
      "1/1 [==============================] - 0s 20ms/step\n",
      "1/1 [==============================] - 0s 21ms/step\n",
      "1/1 [==============================] - 0s 25ms/step\n",
      "1/1 [==============================] - 0s 22ms/step\n",
      "1/1 [==============================] - 0s 23ms/step\n",
      "1/1 [==============================] - 0s 26ms/step\n",
      "1/1 [==============================] - 0s 21ms/step\n",
      "Изображение 0.png: Предсказанная цифра - 3\n",
      "Изображение 1.png: Предсказанная цифра - 3\n",
      "Изображение 2.png: Предсказанная цифра - 3\n",
      "Изображение 3.png: Предсказанная цифра - 3\n",
      "Изображение 4.png: Предсказанная цифра - 3\n",
      "Изображение 5.png: Предсказанная цифра - 3\n",
      "Изображение 6.png: Предсказанная цифра - 3\n",
      "Изображение 7.png: Предсказанная цифра - 3\n",
      "Изображение 8.png: Предсказанная цифра - 3\n",
      "Изображение 9.png: Предсказанная цифра - 3\n"
     ]
    }
   ],
   "source": [
    "import os\n",
    "import numpy as np\n",
    "from PIL import Image\n",
    "\n",
    "# Путь к папке с тестовыми изображениями\n",
    "test_images_folder = \"./images_folder/\"\n",
    "\n",
    "# Создание списка файлов в папке\n",
    "image_files = os.listdir(test_images_folder)\n",
    "\n",
    "# Пустой список для хранения результатов предсказаний\n",
    "predictions_list = []\n",
    "\n",
    "# Перебор файлов и предсказание цифр\n",
    "for image_file in image_files:\n",
    "    # Полный путь к файлу изображения\n",
    "    image_path = os.path.join(test_images_folder, image_file)\n",
    "\n",
    "    # Загрузка изображения и предобработка\n",
    "    image = Image.open(image_path).convert(\"L\")  # Преобразование в оттенки серого\n",
    "    image = image.resize((28, 28))\n",
    "    image_array = np.array(image) / 255.0  # Нормализация значений пикселей\n",
    "\n",
    "    # Предсказание вероятностей для каждого класса\n",
    "    predictions = model.predict(image_array.reshape(1, 28, 28))\n",
    "\n",
    "    # Выбор класса с наибольшей вероятностью\n",
    "    predicted_class = np.argmax(predictions)\n",
    "\n",
    "    # Добавление предсказанного класса в список\n",
    "    predictions_list.append(predicted_class)\n",
    "\n",
    "# Вывод результатов предсказаний для всех изображений\n",
    "for i, prediction in enumerate(predictions_list):\n",
    "    print(f\"Изображение {image_files[i]}: Предсказанная цифра - {prediction}\")"
   ]
  }
 ],
 "metadata": {
  "kernelspec": {
   "display_name": ".venv",
   "language": "python",
   "name": "python3"
  },
  "language_info": {
   "codemirror_mode": {
    "name": "ipython",
    "version": 3
   },
   "file_extension": ".py",
   "mimetype": "text/x-python",
   "name": "python",
   "nbconvert_exporter": "python",
   "pygments_lexer": "ipython3",
   "version": "3.11.8"
  }
 },
 "nbformat": 4,
 "nbformat_minor": 2
}
