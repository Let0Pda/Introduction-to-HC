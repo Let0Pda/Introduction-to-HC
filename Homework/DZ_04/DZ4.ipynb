{
 "cells": [
  {
   "cell_type": "code",
   "execution_count": 22,
   "metadata": {},
   "outputs": [],
   "source": [
    "import numpy as np\n",
    "import pandas as pd\n",
    "import os\n",
    "import cv2\n",
    "from tqdm import tqdm\n",
    "from sklearn.model_selection import train_test_split\n",
    "from sklearn.preprocessing import LabelEncoder\n",
    "from keras.utils import to_categorical\n",
    "from keras.models import Sequential\n",
    "from keras.layers import Dense, Conv2D, Flatten, MaxPooling2D, Dropout\n",
    "import tensorflow as tf\n",
    "import keras"
   ]
  },
  {
   "cell_type": "code",
   "execution_count": 23,
   "metadata": {},
   "outputs": [],
   "source": [
    "# Загрузка данных\n",
    "data = pd.read_csv(\"./train.csv\")"
   ]
  },
  {
   "cell_type": "code",
   "execution_count": 24,
   "metadata": {},
   "outputs": [
    {
     "data": {
      "text/plain": [
       "<Axes: xlabel='ClassId'>"
      ]
     },
     "execution_count": 24,
     "metadata": {},
     "output_type": "execute_result"
    },
    {
     "data": {
      "image/png": "[encoded data removed]",
      "text/plain": [
       "<Figure size 640x480 with 1 Axes>"
      ]
     },
     "metadata": {},
     "output_type": "display_data"
    }
   ],
   "source": [
    "# Визуализация распределения классов\n",
    "data[\"ClassId\"].value_counts().plot(kind=\"bar\")"
   ]
  },
  {
   "cell_type": "code",
   "execution_count": 38,
   "metadata": {},
   "outputs": [
    {
     "data": {
      "text/plain": [
       "ClassId\n",
       "3    5150\n",
       "1     897\n",
       "4     801\n",
       "2     247\n",
       "Name: count, dtype: int64"
      ]
     },
     "execution_count": 38,
     "metadata": {},
     "output_type": "execute_result"
    }
   ],
   "source": [
    "# Подсчет количества изображений для каждого класса\n",
    "class_counts = data[\"ClassId\"].value_counts()\n",
    "class_counts"
   ]
  },
  {
   "cell_type": "code",
   "execution_count": 25,
   "metadata": {},
   "outputs": [
    {
     "name": "stderr",
     "output_type": "stream",
     "text": [
      "100%|██████████| 7095/7095 [00:30<00:00, 236.28it/s]\n"
     ]
    }
   ],
   "source": [
    "# Подготовка данных для обучения модели\n",
    "images = []\n",
    "labels = []\n",
    "\n",
    "for img, class_id, _ in tqdm(data.values):\n",
    "    image = cv2.imread(f\"./train_images/{img}\", cv2.IMREAD_GRAYSCALE)\n",
    "    image = cv2.resize(image, (120, 120))\n",
    "    images.append(image)\n",
    "    labels.append(class_id)\n",
    "\n",
    "encoder = LabelEncoder()\n",
    "X = np.array(images)\n",
    "X = X / 255\n",
    "y = encoder.fit_transform(labels)\n",
    "y = to_categorical(y)"
   ]
  },
  {
   "cell_type": "code",
   "execution_count": 26,
   "metadata": {},
   "outputs": [],
   "source": [
    "# Разделение данных на обучающую и тестовую выборки\n",
    "X_train, X_test, y_train, y_test = train_test_split(X, y, test_size=0.2, stratify=y, shuffle=True)"
   ]
  },
  {
   "cell_type": "code",
   "execution_count": 27,
   "metadata": {},
   "outputs": [],
   "source": [
    "# Создание архитектуры нейронной сети\n",
    "model = Sequential(\n",
    "    [\n",
    "        Conv2D(32, (3, 3), input_shape=(120, 120, 1), activation=\"relu\"),\n",
    "        MaxPooling2D(pool_size=(3, 3)),\n",
    "        Conv2D(64, (3, 3), activation=\"relu\"),\n",
    "        MaxPooling2D(pool_size=(3, 3)),\n",
    "        Conv2D(64, (3, 3), activation=\"relu\"),\n",
    "        MaxPooling2D(pool_size=(4, 4)),\n",
    "        Flatten(),\n",
    "        Dense(128, activation=\"relu\"),\n",
    "        Dropout(0.3),\n",
    "        Dense(128, activation=\"relu\"),\n",
    "        Dropout(0.3),\n",
    "        Dense(256, activation=\"relu\"),\n",
    "        Dense(4, activation=\"softmax\"),\n",
    "    ]\n",
    ")"
   ]
  },
  {
   "cell_type": "code",
   "execution_count": 29,
   "metadata": {},
   "outputs": [
    {
     "name": "stdout",
     "output_type": "stream",
     "text": [
      "Epoch 1/15\n",
      "45/45 [==============================] - 34s 736ms/step - loss: 0.8120 - accuracy: 0.7259 - val_loss: 0.8055 - val_accuracy: 0.7259\n",
      "Epoch 2/15\n",
      "45/45 [==============================] - 33s 737ms/step - loss: 0.7783 - accuracy: 0.7299 - val_loss: 0.7556 - val_accuracy: 0.7442\n",
      "Epoch 3/15\n",
      "45/45 [==============================] - 33s 724ms/step - loss: 0.7391 - accuracy: 0.7403 - val_loss: 0.7052 - val_accuracy: 0.7491\n",
      "Epoch 4/15\n",
      "45/45 [==============================] - 33s 728ms/step - loss: 0.6966 - accuracy: 0.7470 - val_loss: 0.6762 - val_accuracy: 0.7548\n",
      "Epoch 5/15\n",
      "45/45 [==============================] - 31s 692ms/step - loss: 0.6842 - accuracy: 0.7479 - val_loss: 0.6521 - val_accuracy: 0.7526\n",
      "Epoch 6/15\n",
      "45/45 [==============================] - 31s 686ms/step - loss: 0.6595 - accuracy: 0.7518 - val_loss: 0.6280 - val_accuracy: 0.7562\n",
      "Epoch 7/15\n",
      "45/45 [==============================] - 32s 711ms/step - loss: 0.6374 - accuracy: 0.7563 - val_loss: 0.6335 - val_accuracy: 0.7548\n",
      "Epoch 8/15\n",
      "45/45 [==============================] - 32s 706ms/step - loss: 0.6209 - accuracy: 0.7525 - val_loss: 0.6065 - val_accuracy: 0.7583\n",
      "Epoch 9/15\n",
      "45/45 [==============================] - 31s 685ms/step - loss: 0.6115 - accuracy: 0.7551 - val_loss: 0.5884 - val_accuracy: 0.7583\n",
      "Epoch 10/15\n",
      "45/45 [==============================] - 31s 701ms/step - loss: 0.5869 - accuracy: 0.7644 - val_loss: 0.5861 - val_accuracy: 0.7618\n",
      "Epoch 11/15\n",
      "45/45 [==============================] - 31s 693ms/step - loss: 0.5834 - accuracy: 0.7609 - val_loss: 0.5577 - val_accuracy: 0.7590\n",
      "Epoch 12/15\n",
      "45/45 [==============================] - 32s 702ms/step - loss: 0.5632 - accuracy: 0.7673 - val_loss: 0.5641 - val_accuracy: 0.7815\n",
      "Epoch 13/15\n",
      "45/45 [==============================] - 32s 710ms/step - loss: 0.5438 - accuracy: 0.7713 - val_loss: 0.5293 - val_accuracy: 0.7696\n",
      "Epoch 14/15\n",
      "45/45 [==============================] - 32s 701ms/step - loss: 0.5350 - accuracy: 0.7724 - val_loss: 0.5145 - val_accuracy: 0.7886\n",
      "Epoch 15/15\n",
      "45/45 [==============================] - 31s 693ms/step - loss: 0.5254 - accuracy: 0.7734 - val_loss: 0.5128 - val_accuracy: 0.7921\n"
     ]
    }
   ],
   "source": [
    "# Компиляция и обучение модели\n",
    "early_stopping = tf.keras.callbacks.EarlyStopping(patience=5, min_delta=0.001, restore_best_weights=True)\n",
    "model.compile(loss=keras.losses.categorical_crossentropy, optimizer=keras.optimizers.Adam(), metrics=[\"accuracy\"])\n",
    "history = model.fit(\n",
    "    X_train, y_train, epochs=15, validation_data=(X_test, y_test), batch_size=128, verbose=1, callbacks=[early_stopping]\n",
    ")"
   ]
  },
  {
   "cell_type": "markdown",
   "metadata": {},
   "source": [
    "Увеличение количества эпох должно положительно сказаться на точности"
   ]
  },
  {
   "cell_type": "code",
   "execution_count": 30,
   "metadata": {},
   "outputs": [],
   "source": [
    "# Функция для RLE-кодирования маски\n",
    "def rle_encode(mask):\n",
    "    rle_encoded_mask = []\n",
    "    prev_value = mask[0][0]\n",
    "    count = 1\n",
    "\n",
    "    for value in mask[1:]:\n",
    "        if value.any() != prev_value:\n",
    "            rle_encoded_mask.append(int(prev_value))\n",
    "            prev_value = value[0]\n",
    "            count = 1\n",
    "        else:\n",
    "            count += 1\n",
    "\n",
    "        rle_encoded_mask.append(int(prev_value))\n",
    "    return \" \".join(map(str, rle_encoded_mask))"
   ]
  },
  {
   "cell_type": "code",
   "execution_count": 34,
   "metadata": {},
   "outputs": [],
   "source": [
    "# Подготовка тестовых данных и предсказание классов\n",
    "test_images_dir = \"./test_images/\"\n",
    "test_filenames = os.listdir(test_images_dir)\n",
    "y_pred = []\n",
    "encoded_pixels = []"
   ]
  },
  {
   "cell_type": "code",
   "execution_count": 41,
   "metadata": {},
   "outputs": [
    {
     "name": "stderr",
     "output_type": "stream",
     "text": [
      "100%|██████████| 5506/5506 [07:29<00:00, 12.26it/s]\n"
     ]
    }
   ],
   "source": [
    "# Предобработка и предсказание для тестовых изображений\n",
    "with tqdm(total=len(test_filenames), position=0, leave=True) as pbar:\n",
    "    for filename in test_filenames:\n",
    "        image = cv2.imread(os.path.join(test_images_dir, filename), cv2.IMREAD_GRAYSCALE)\n",
    "        image = cv2.resize(image, (120, 120))\n",
    "        _, mask = cv2.threshold(image, thresh=127, maxval=255, type=cv2.THRESH_BINARY)\n",
    "        rle_encoded_mask = rle_encode(mask)\n",
    "        encoded_pixels.append(rle_encoded_mask)\n",
    "        prediction = model.predict(np.expand_dims(image, axis=0), verbose=0)  # Установка verbose=0\n",
    "        predicted_class = np.argmax(prediction, axis=1)[0] + 1\n",
    "        y_pred.append(predicted_class)\n",
    "        pbar.update()\n"
   ]
  },
  {
   "cell_type": "code",
   "execution_count": null,
   "metadata": {},
   "outputs": [],
   "source": [
    "# Создание dataframe и сохранение в файл\n",
    "submission_df = pd.DataFrame({\"ImageId\": test_filenames, \"EncodedPixels\": encoded_pixels, \"ClassId\": y_pred})\n",
    "submission_df.to_csv(\"submission.csv\", index=False, header=False)"
   ]
  },
  {
   "cell_type": "markdown",
   "metadata": {},
   "source": [
    "Этот код представляет собой типичный процесс подготовки и обучения модели нейронной сети для классификации изображений. Вначале данные загружаются из CSV-файла, затем изображения обрабатываются (изменяют размер, нормализуются и т. д.), после чего происходит разделение данных на обучающую и тестовую выборки. Затем создается модель нейронной сети с несколькими сверточными слоями, слоями пулинга и полносвязными слоями. В конце добавляются оптимизатор и функция потерь для обучения модели. Результаты предсказаний сохраняются в файле submission.csv в формате, подходящем для отправки на платформу соревнования или дальнейшего анализа. В коде также присутствует функция для кодирования маски изображения в формате Run-Length Encoding (RLE) и визуализация распределения классов в обучающем наборе данных.  \n",
    "\n",
    "RLE-кодирование (Run-Length Encoding) - это метод сжатия данных, который используется для кодирования последовательностей повторяющихся символов. В контексте компьютерного зрения, RLE-кодирование часто применяется для сжатия масок, которые представляют области изображения с определенными свойствами (например, области сегментации объектов).\n",
    "\n",
    "Функция RLE-кодирования маски в данном контексте принимает на вход бинарную маску (матрицу из 0 и 1, где 1 обозначает область объекта), и кодирует ее в строку, содержащую информацию о последовательностях повторяющихся значений в маске. Это полезно, например, при подготовке результатов сегментации объектов для отправки на соревнования или анализа.\n",
    "\n",
    "В коде выше, функция rle_encode принимает бинарную маску и возвращает строку, содержащую RLE-кодированное представление этой маски. Это используется для кодирования масок тестовых изображений, которые затем сохраняются вместе с предсказанными классами в файле submission.csv."
   ]
  }
 ],
 "metadata": {
  "kernelspec": {
   "display_name": ".venv",
   "language": "python",
   "name": "python3"
  },
  "language_info": {
   "codemirror_mode": {
    "name": "ipython",
    "version": 3
   },
   "file_extension": ".py",
   "mimetype": "text/x-python",
   "name": "python",
   "nbconvert_exporter": "python",
   "pygments_lexer": "ipython3",
   "version": "3.11.8"
  }
 },
 "nbformat": 4,
 "nbformat_minor": 2
}
