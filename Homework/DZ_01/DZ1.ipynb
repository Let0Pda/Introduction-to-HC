{
 "cells": [
  {
   "cell_type": "markdown",
   "metadata": {},
   "source": [
    "##### Урок 1. Основы обучения нейронных сетей  \n",
    "ДЗ от меня - доделать НС с урока, добавить метод predict и проверить на своих собственных данных, оценить accuracy.  \n",
    "Как вариант, опционально кто сможет для решения этих входных данных обучите НС mlpclassifier от sklearn. "
   ]
  },
  {
   "cell_type": "code",
   "execution_count": 9,
   "metadata": {},
   "outputs": [],
   "source": [
    "import numpy as np\n",
    "from sklearn.neural_network import MLPClassifier"
   ]
  },
  {
   "cell_type": "code",
   "execution_count": 10,
   "metadata": {},
   "outputs": [],
   "source": [
    "def sigmoid(x):\n",
    "    return 1 / (1 + np.exp(-x))\n",
    "\n",
    "\n",
    "def deriv_sigmoid(x):\n",
    "    fx = sigmoid(x)\n",
    "    return fx * (1 - fx)\n",
    "\n",
    "\n",
    "def mse_loss(y_true, y_pred):\n",
    "    return ((y_true - y_pred) ** 2).mean()"
   ]
  },
  {
   "cell_type": "code",
   "execution_count": 11,
   "metadata": {},
   "outputs": [],
   "source": [
    "class OurNeuralNetwork:\n",
    "    def __init__(self):\n",
    "        self.weights = [np.random.normal() for _ in range(6)]\n",
    "        self.biases = [np.random.normal() for _ in range(3)]\n",
    "\n",
    "    def feedforward(self, x):\n",
    "        h1_input = np.dot(x, self.weights[:2]) + self.biases[0]\n",
    "        h1 = sigmoid(h1_input)\n",
    "        h2_input = np.dot(x, self.weights[2:4]) + self.biases[1]\n",
    "        h2 = sigmoid(h2_input)\n",
    "        o1_input = np.dot([h1, h2], self.weights[4:]) + self.biases[2]\n",
    "        return sigmoid(o1_input)\n",
    "\n",
    "    def train(self, data, all_y_trues, learn_rate=0.1, epochs=1000):\n",
    "        for epoch in range(epochs):\n",
    "            for x, y_true in zip(data, all_y_trues):\n",
    "                h1_input = np.dot(x, self.weights[:2]) + self.biases[0]\n",
    "                h1 = sigmoid(h1_input)\n",
    "                h2_input = np.dot(x, self.weights[2:4]) + self.biases[1]\n",
    "                h2 = sigmoid(h2_input)\n",
    "                o1_input = np.dot([h1, h2], self.weights[4:]) + self.biases[2]\n",
    "                o1 = sigmoid(o1_input)\n",
    "\n",
    "                d_L_d_ypred = -2 * (y_true - o1)\n",
    "                d_ypred_d_w5 = h1 * deriv_sigmoid(o1_input)\n",
    "                d_ypred_d_w6 = h2 * deriv_sigmoid(o1_input)\n",
    "                d_ypred_d_b3 = deriv_sigmoid(o1_input)\n",
    "                d_ypred_d_h1 = self.weights[4] * deriv_sigmoid(o1_input)\n",
    "                d_ypred_d_h2 = self.weights[5] * deriv_sigmoid(o1_input)\n",
    "\n",
    "                d_h1_d_w1 = x[0] * deriv_sigmoid(h1_input)\n",
    "                d_h1_d_w2 = x[1] * deriv_sigmoid(h1_input)\n",
    "                d_h2_d_w3 = x[0] * deriv_sigmoid(h2_input)\n",
    "                d_h2_d_w4 = x[1] * deriv_sigmoid(h2_input)\n",
    "\n",
    "                self.weights[0] -= learn_rate * d_L_d_ypred * d_ypred_d_h1 * d_h1_d_w1\n",
    "                self.weights[1] -= learn_rate * d_L_d_ypred * d_ypred_d_h1 * d_h1_d_w2\n",
    "                self.biases[0] -= learn_rate * d_L_d_ypred * d_ypred_d_h1 * deriv_sigmoid(h1_input)\n",
    "\n",
    "                self.weights[2] -= learn_rate * d_L_d_ypred * d_ypred_d_h2 * d_h2_d_w3\n",
    "                self.weights[3] -= learn_rate * d_L_d_ypred * d_ypred_d_h2 * d_h2_d_w4\n",
    "                self.biases[1] -= learn_rate * d_L_d_ypred * d_ypred_d_h2 * deriv_sigmoid(h2_input)\n",
    "\n",
    "                self.weights[4] -= learn_rate * d_L_d_ypred * d_ypred_d_w5\n",
    "                self.weights[5] -= learn_rate * d_L_d_ypred * d_ypred_d_w6\n",
    "                self.biases[2] -= learn_rate * d_L_d_ypred * d_ypred_d_b3\n",
    "\n",
    "            if epoch % 100 == 0:\n",
    "                y_preds = np.apply_along_axis(self.feedforward, 1, data)\n",
    "                loss = mse_loss(all_y_trues, y_preds)\n",
    "                print(f\"Epoch {epoch} loss: {loss:.3f}\")\n",
    "\n",
    "    def predict(self, data):\n",
    "        predictions = [self.feedforward(x) for x in data]\n",
    "        return np.round(predictions)"
   ]
  },
  {
   "cell_type": "code",
   "execution_count": 12,
   "metadata": {},
   "outputs": [],
   "source": [
    "# Определим набор данных\n",
    "data = np.array(\n",
    "    [\n",
    "        [-2, -1],  # Алиса\n",
    "        [25, 6],  # Боб\n",
    "        [17, 4],  # Чарли\n",
    "        [-15, -6],  # Диана\n",
    "    ]\n",
    ")\n",
    "all_y_trues = np.array(\n",
    "    [\n",
    "        1,  # Алиса\n",
    "        0,  # Боб\n",
    "        0,  # Чарли\n",
    "        1,  # Диана\n",
    "    ]\n",
    ")"
   ]
  },
  {
   "cell_type": "code",
   "execution_count": 13,
   "metadata": {},
   "outputs": [
    {
     "name": "stdout",
     "output_type": "stream",
     "text": [
      "Epoch 0 loss: 0.311\n",
      "Epoch 100 loss: 0.019\n",
      "Epoch 200 loss: 0.009\n",
      "Epoch 300 loss: 0.005\n",
      "Epoch 400 loss: 0.004\n",
      "Epoch 500 loss: 0.003\n",
      "Epoch 600 loss: 0.003\n",
      "Epoch 700 loss: 0.002\n",
      "Epoch 800 loss: 0.002\n",
      "Epoch 900 loss: 0.002\n"
     ]
    }
   ],
   "source": [
    "# Создание экземпляра и обучение собственной нейронной сети\n",
    "network = OurNeuralNetwork()\n",
    "network.train(data, all_y_trues)"
   ]
  },
  {
   "cell_type": "code",
   "execution_count": 14,
   "metadata": {},
   "outputs": [
    {
     "name": "stdout",
     "output_type": "stream",
     "text": [
      "NeuralNetwork Accuracy: 100.00%\n"
     ]
    }
   ],
   "source": [
    "# Оценка точности собственной нейронной сети\n",
    "predictions = network.predict(data)\n",
    "accuracy = np.mean(predictions == all_y_trues)\n",
    "print(f\"NeuralNetwork Accuracy: {accuracy * 100:.2f}%\")"
   ]
  },
  {
   "cell_type": "code",
   "execution_count": 15,
   "metadata": {},
   "outputs": [
    {
     "name": "stdout",
     "output_type": "stream",
     "text": [
      "MLPClassifier Accuracy: 100.00%\n"
     ]
    }
   ],
   "source": [
    "# Создание и обучение MLPClassifier от sklearn\n",
    "mlp = MLPClassifier(hidden_layer_sizes=(2,), activation=\"logistic\", max_iter=2000, random_state=42)\n",
    "mlp.fit(data, all_y_trues)\n",
    "\n",
    "# Оценка точности MLPClassifier от sklearn\n",
    "mlp_accuracy = mlp.score(data, all_y_trues)\n",
    "print(f\"MLPClassifier Accuracy: {mlp_accuracy * 100:.2f}%\")"
   ]
  },
  {
   "cell_type": "code",
   "execution_count": 16,
   "metadata": {},
   "outputs": [
    {
     "name": "stdout",
     "output_type": "stream",
     "text": [
      "NeuralNetwork Predictions:\n",
      "Example 1: Woman\n",
      "Example 2: Man\n",
      "MLPClassifier Predictions:\n",
      "Example 1: Woman\n",
      "Example 2: Man\n"
     ]
    }
   ],
   "source": [
    "# Данные для прогнозирования\n",
    "new_data = np.array(\n",
    "    [\n",
    "        [-10, 5],  # Новый пример 1\n",
    "        [15, 3],  # Новый пример 2\n",
    "    ]\n",
    ")\n",
    "\n",
    "# Прогноз собственной нейронной сети\n",
    "network_predictions = network.predict(new_data)\n",
    "print(\"NeuralNetwork Predictions:\")\n",
    "for i, pred in enumerate(network_predictions):\n",
    "    print(f\"Example {i+1}: {'Woman' if pred == 1 else 'Man'}\")\n",
    "\n",
    "# Прогноз MLPClassifier от sklearn\n",
    "mlp_predictions = mlp.predict(new_data)\n",
    "print(\"MLPClassifier Predictions:\")\n",
    "for i, pred in enumerate(mlp_predictions):\n",
    "    print(f\"Example {i+1}: {'Woman' if pred == 1 else 'Man'}\")"
   ]
  }
 ],
 "metadata": {
  "kernelspec": {
   "display_name": ".venv",
   "language": "python",
   "name": "python3"
  },
  "language_info": {
   "codemirror_mode": {
    "name": "ipython",
    "version": 3
   },
   "file_extension": ".py",
   "mimetype": "text/x-python",
   "name": "python",
   "nbconvert_exporter": "python",
   "pygments_lexer": "ipython3",
   "version": "3.11.6"
  }
 },
 "nbformat": 4,
 "nbformat_minor": 2
}
