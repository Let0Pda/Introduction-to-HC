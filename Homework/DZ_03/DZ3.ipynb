{
 "cells": [
  {
   "cell_type": "code",
   "execution_count": 1,
   "metadata": {},
   "outputs": [],
   "source": [
    "import numpy as np\n",
    "from sklearn.metrics import classification_report\n",
    "from tensorflow.keras.datasets import fashion_mnist\n",
    "from tensorflow.keras.utils import to_categorical\n",
    "from tensorflow.keras.models import Sequential\n",
    "from tensorflow.keras.layers import Conv2D, MaxPooling2D, Flatten, Dense, Dropout\n",
    "from tensorflow.keras.optimizers import Adam\n",
    "from tensorflow.keras.preprocessing.image import ImageDataGenerator"
   ]
  },
  {
   "cell_type": "code",
   "execution_count": 2,
   "metadata": {},
   "outputs": [],
   "source": [
    "# Загрузка данных\n",
    "def load_data():\n",
    "    (x_train, y_train), (x_test, y_test) = fashion_mnist.load_data()\n",
    "    return (x_train, y_train), (x_test, y_test)"
   ]
  },
  {
   "cell_type": "code",
   "execution_count": 3,
   "metadata": {},
   "outputs": [],
   "source": [
    "# Предобработка данных\n",
    "def preprocess_data(x_train, x_test, y_train, y_test):\n",
    "    x_train_normalized = x_train.reshape((-1, 28, 28, 1)) / 255.0\n",
    "    x_test_normalized = x_test.reshape((-1, 28, 28, 1)) / 255.0\n",
    "    y_train_encoded = to_categorical(y_train, num_classes=10)\n",
    "    y_test_encoded = to_categorical(y_test, num_classes=10)\n",
    "    return x_train_normalized, x_test_normalized, y_train_encoded, y_test_encoded"
   ]
  },
  {
   "cell_type": "code",
   "execution_count": 4,
   "metadata": {},
   "outputs": [],
   "source": [
    "# Создание модели\n",
    "def build_model():\n",
    "    return Sequential(\n",
    "        [\n",
    "            Conv2D(32, kernel_size=(3, 3), activation=\"relu\", input_shape=(28, 28, 1)),\n",
    "            Conv2D(64, kernel_size=(3, 3), activation=\"relu\"),\n",
    "            MaxPooling2D(pool_size=(2, 2)),\n",
    "            Dropout(0.25),  # регуляризация модели\n",
    "            Flatten(),\n",
    "            Dense(128, activation=\"relu\"),\n",
    "            Dropout(0.5),\n",
    "            Dense(10, activation=\"softmax\"),\n",
    "        ]\n",
    "    )"
   ]
  },
  {
   "cell_type": "code",
   "execution_count": 5,
   "metadata": {},
   "outputs": [],
   "source": [
    "# Компиляция модели\n",
    "def compile_model(model):\n",
    "    model.compile(optimizer=Adam(), loss=\"categorical_crossentropy\", metrics=[\"accuracy\"])"
   ]
  },
  {
   "cell_type": "code",
   "execution_count": 6,
   "metadata": {},
   "outputs": [],
   "source": [
    "# Аугментация данных\n",
    "def augment_data():\n",
    "    return ImageDataGenerator(\n",
    "        rotation_range=10,\n",
    "        width_shift_range=0.1,\n",
    "        height_shift_range=0.1,\n",
    "        horizontal_flip=True,\n",
    "    )"
   ]
  },
  {
   "cell_type": "code",
   "execution_count": 7,
   "metadata": {},
   "outputs": [],
   "source": [
    "# Обучение модели\n",
    "def train_model(model, x_train, y_train, datagen, epochs=20, batch_size=128, x_test=None, y_test=None):\n",
    "    steps_per_epoch = len(x_train) / batch_size\n",
    "    validation_data = (x_test, y_test) if x_test is not None and y_test is not None else None\n",
    "    model.fit(\n",
    "        datagen.flow(x_train, y_train, batch_size=batch_size),\n",
    "        steps_per_epoch=steps_per_epoch,\n",
    "        epochs=epochs,\n",
    "        validation_data=validation_data,\n",
    "    )"
   ]
  },
  {
   "cell_type": "code",
   "execution_count": 8,
   "metadata": {},
   "outputs": [],
   "source": [
    "# Оценка модели\n",
    "def evaluate_model(model, x_test, y_test):\n",
    "    score = model.evaluate(x_test, y_test, verbose=0)\n",
    "    print(\"Потери на тестовой выборке:\", score[0])\n",
    "    print(\"Точность на тестовой выборке:\", score[1])"
   ]
  },
  {
   "cell_type": "code",
   "execution_count": 9,
   "metadata": {},
   "outputs": [],
   "source": [
    "# Генерация отчета о классификации\n",
    "def generate_classification_report(model, x_test, y_test):\n",
    "    y_pred_probabilities = model.predict(x_test)\n",
    "    y_pred = np.argmax(y_pred_probabilities, axis=1)\n",
    "    y_test_classes = np.argmax(y_test, axis=1)\n",
    "    class_report = classification_report(y_test_classes, y_pred)\n",
    "    print(\"Отчет о классификации:\")\n",
    "    print(class_report)"
   ]
  },
  {
   "cell_type": "code",
   "execution_count": 10,
   "metadata": {},
   "outputs": [
    {
     "name": "stdout",
     "output_type": "stream",
     "text": [
      "Epoch 1/20\n",
      "468/468 [==============================] - 91s 191ms/step - loss: 0.8111 - accuracy: 0.7028 - val_loss: 0.4974 - val_accuracy: 0.8042\n",
      "Epoch 2/20\n",
      "468/468 [==============================] - 89s 191ms/step - loss: 0.5956 - accuracy: 0.7785 - val_loss: 0.4421 - val_accuracy: 0.8278\n",
      "Epoch 3/20\n",
      "468/468 [==============================] - 89s 189ms/step - loss: 0.5365 - accuracy: 0.8002 - val_loss: 0.3832 - val_accuracy: 0.8530\n",
      "Epoch 4/20\n",
      "468/468 [==============================] - 89s 189ms/step - loss: 0.5003 - accuracy: 0.8138 - val_loss: 0.3728 - val_accuracy: 0.8603\n",
      "Epoch 5/20\n",
      "468/468 [==============================] - 89s 191ms/step - loss: 0.4735 - accuracy: 0.8246 - val_loss: 0.3418 - val_accuracy: 0.8737\n",
      "Epoch 6/20\n",
      "468/468 [==============================] - 93s 198ms/step - loss: 0.4527 - accuracy: 0.8326 - val_loss: 0.3307 - val_accuracy: 0.8821\n",
      "Epoch 7/20\n",
      "468/468 [==============================] - 91s 195ms/step - loss: 0.4364 - accuracy: 0.8372 - val_loss: 0.3266 - val_accuracy: 0.8845\n",
      "Epoch 8/20\n",
      "468/468 [==============================] - 90s 192ms/step - loss: 0.4215 - accuracy: 0.8446 - val_loss: 0.3265 - val_accuracy: 0.8818\n",
      "Epoch 9/20\n",
      "468/468 [==============================] - 88s 187ms/step - loss: 0.4110 - accuracy: 0.8498 - val_loss: 0.3007 - val_accuracy: 0.8909\n",
      "Epoch 10/20\n",
      "468/468 [==============================] - 88s 188ms/step - loss: 0.3986 - accuracy: 0.8547 - val_loss: 0.2929 - val_accuracy: 0.8935\n",
      "Epoch 11/20\n",
      "468/468 [==============================] - 89s 190ms/step - loss: 0.3920 - accuracy: 0.8557 - val_loss: 0.2929 - val_accuracy: 0.8948\n",
      "Epoch 12/20\n",
      "468/468 [==============================] - 89s 190ms/step - loss: 0.3843 - accuracy: 0.8600 - val_loss: 0.2760 - val_accuracy: 0.9006\n",
      "Epoch 13/20\n",
      "468/468 [==============================] - 90s 191ms/step - loss: 0.3784 - accuracy: 0.8613 - val_loss: 0.2795 - val_accuracy: 0.8964\n",
      "Epoch 14/20\n",
      "468/468 [==============================] - 92s 195ms/step - loss: 0.3693 - accuracy: 0.8657 - val_loss: 0.2725 - val_accuracy: 0.9040\n",
      "Epoch 15/20\n",
      "468/468 [==============================] - 92s 195ms/step - loss: 0.3653 - accuracy: 0.8669 - val_loss: 0.2682 - val_accuracy: 0.9015\n",
      "Epoch 16/20\n",
      "468/468 [==============================] - 90s 192ms/step - loss: 0.3650 - accuracy: 0.8687 - val_loss: 0.2739 - val_accuracy: 0.9034\n",
      "Epoch 17/20\n",
      "468/468 [==============================] - 90s 192ms/step - loss: 0.3568 - accuracy: 0.8705 - val_loss: 0.2617 - val_accuracy: 0.9038\n",
      "Epoch 18/20\n",
      "468/468 [==============================] - 93s 198ms/step - loss: 0.3492 - accuracy: 0.8737 - val_loss: 0.2725 - val_accuracy: 0.9012\n",
      "Epoch 19/20\n",
      "468/468 [==============================] - 94s 201ms/step - loss: 0.3475 - accuracy: 0.8745 - val_loss: 0.2640 - val_accuracy: 0.9063\n",
      "Epoch 20/20\n",
      "468/468 [==============================] - 86s 183ms/step - loss: 0.3441 - accuracy: 0.8751 - val_loss: 0.2686 - val_accuracy: 0.9036\n",
      "Потери на тестовой выборке: 0.2686077356338501\n",
      "Точность на тестовой выборке: 0.9035999774932861\n",
      "313/313 [==============================] - 4s 12ms/step\n",
      "Отчет о классификации:\n",
      "              precision    recall  f1-score   support\n",
      "\n",
      "           0       0.83      0.89      0.86      1000\n",
      "           1       1.00      0.98      0.99      1000\n",
      "           2       0.84      0.86      0.85      1000\n",
      "           3       0.90      0.92      0.91      1000\n",
      "           4       0.91      0.76      0.83      1000\n",
      "           5       0.97      0.98      0.98      1000\n",
      "           6       0.71      0.73      0.72      1000\n",
      "           7       0.94      0.98      0.96      1000\n",
      "           8       0.97      0.99      0.98      1000\n",
      "           9       0.99      0.94      0.96      1000\n",
      "\n",
      "    accuracy                           0.90     10000\n",
      "   macro avg       0.91      0.90      0.90     10000\n",
      "weighted avg       0.91      0.90      0.90     10000\n",
      "\n"
     ]
    }
   ],
   "source": [
    "# Загрузка данных\n",
    "(x_train, y_train), (x_test, y_test) = load_data()\n",
    "\n",
    "# Предобработка данных\n",
    "x_train_processed, x_test_processed, y_train_encoded, y_test_encoded = preprocess_data(x_train, x_test, y_train, y_test)\n",
    "\n",
    "# Создание модели\n",
    "model = build_model()\n",
    "\n",
    "# Компиляция модели\n",
    "compile_model(model)\n",
    "\n",
    "# Аугментация данных\n",
    "data_augmentor = augment_data()\n",
    "\n",
    "# Обучение модели\n",
    "train_model(\n",
    "    model,\n",
    "    x_train_processed,\n",
    "    y_train_encoded,\n",
    "    data_augmentor,\n",
    "    epochs=20,\n",
    "    batch_size=128,\n",
    "    x_test=x_test_processed,\n",
    "    y_test=y_test_encoded,\n",
    ")\n",
    "\n",
    "# Оценка модели\n",
    "evaluate_model(model, x_test_processed, y_test_encoded)\n",
    "\n",
    "# Генерация отчета о классификации\n",
    "generate_classification_report(model, x_test_processed, y_test_encoded)"
   ]
  },
  {
   "cell_type": "markdown",
   "metadata": {},
   "source": [
    "В результате экспериментов было установлено, что архитектура сверточной нейронной сети, чередующаяся с полносвязными слоями, продемонстрировала хорошие результаты.  \n",
    "_Dropout(0.25)_ применяется для регуляризации модели и предотвращения переобучения. Этот слой случайным образом отключает указанную долю нейронов во время обучения, что помогает сети избежать слишком сильной зависимости между нейронами и улучшить ее обобщающую способность.  \n",
    "Аугментация данных была применена с целью улучшения обобщающей способности модели и снижения риска переобучения.  \n",
    "Рекомендуется ограничить количество эпох обучения сети не более 20, так как после этого момента эффективность обучения существенно снижается.  \n",
    "\n",
    "Сеть демонстрирует лучшие результаты, однако время обучения заметно увеличивается. Работа проводилось на локальном компьютере."
   ]
  }
 ],
 "metadata": {
  "kernelspec": {
   "display_name": ".venv",
   "language": "python",
   "name": "python3"
  },
  "language_info": {
   "codemirror_mode": {
    "name": "ipython",
    "version": 3
   },
   "file_extension": ".py",
   "mimetype": "text/x-python",
   "name": "python",
   "nbconvert_exporter": "python",
   "pygments_lexer": "ipython3",
   "version": "3.11.8"
  }
 },
 "nbformat": 4,
 "nbformat_minor": 2
}
