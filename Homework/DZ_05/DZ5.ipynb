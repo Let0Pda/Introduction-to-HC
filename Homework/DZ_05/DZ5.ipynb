{
 "cells": [
  {
   "cell_type": "code",
   "execution_count": 1,
   "metadata": {},
   "outputs": [],
   "source": [
    "import re\n",
    "import numpy as np\n",
    "import keras\n",
    "from keras.preprocessing.text import Tokenizer\n",
    "from keras.layers import SimpleRNN, Dense, Input\n",
    "from keras.models import Sequential"
   ]
  },
  {
   "cell_type": "code",
   "execution_count": 2,
   "metadata": {},
   "outputs": [
    {
     "data": {
      "text/plain": [
       "'Вы — лучший ответ на проблемы, которые возникли в понедельник.\\nДумайте позитивно и верьте в свою способность достигать отличных результатов.\\nЕсли вы смогли в понедельник подняться с постели, значит вы супер герой.\\nБудущее зависит от того, что вы делаете сегодня.\\n\"Неважно, как медленно вы идете, главное — не останавливаться.\"\\n\"Великие дела начинаются с малых шагов.\"\\n\"Не бойтесь провалов, они — часть пути к успеху.\"\\n\"Сделай сегодня то, что другие не хотят, и завтра будешь жить так, как другие не могут.\"\\n\"Ваше настроение — ваше оружие, не давайте ему сломаться.\"\\n'"
      ]
     },
     "execution_count": 2,
     "metadata": {},
     "output_type": "execute_result"
    }
   ],
   "source": [
    "with open(\"./train_data.txt\", \"r\", encoding=\"utf-8\") as f:\n",
    "    texts = f.read()\n",
    "    texts = texts.replace(\"\\ufeff\", \"\")  # убираем первый невидимый символ\n",
    "texts"
   ]
  },
  {
   "cell_type": "code",
   "execution_count": 3,
   "metadata": {},
   "outputs": [],
   "source": [
    "maxWordsCount = 2000\n",
    "tokenizer = Tokenizer(\n",
    "    num_words=maxWordsCount,\n",
    "    filters='!–\"—#$%&amp;()*+,-./:;<=>?@[\\\\]^_`{|}~\\t\\n\\r«»',\n",
    "    lower=True,\n",
    "    split=\" \",\n",
    "    char_level=False,\n",
    ")\n",
    "tokenizer.fit_on_texts([texts])\n",
    "# tokenizer.index_word"
   ]
  },
  {
   "cell_type": "code",
   "execution_count": 4,
   "metadata": {},
   "outputs": [
    {
     "name": "stdout",
     "output_type": "stream",
     "text": [
      "[('вы', 5), ('лучший', 1), ('ответ', 1), ('на', 1), ('проблемы', 1), ('которые', 1), ('возникли', 1), ('в', 3), ('понедельник', 2), ('думайте', 1)]\n"
     ]
    }
   ],
   "source": [
    "dist = list(tokenizer.word_counts.items())\n",
    "print(dist[:10])"
   ]
  },
  {
   "cell_type": "code",
   "execution_count": 5,
   "metadata": {},
   "outputs": [],
   "source": [
    "data = tokenizer.texts_to_sequences([texts])\n",
    "# data"
   ]
  },
  {
   "cell_type": "code",
   "execution_count": 6,
   "metadata": {},
   "outputs": [
    {
     "name": "stdout",
     "output_type": "stream",
     "text": [
      "(85, 2000)\n"
     ]
    }
   ],
   "source": [
    "res = keras.utils.to_categorical(data[0], num_classes=maxWordsCount)\n",
    "print(res.shape)"
   ]
  },
  {
   "cell_type": "code",
   "execution_count": 7,
   "metadata": {},
   "outputs": [],
   "source": [
    "inp_words = 3\n",
    "n = res.shape[0] - inp_words"
   ]
  },
  {
   "cell_type": "code",
   "execution_count": 8,
   "metadata": {},
   "outputs": [],
   "source": [
    "X = np.array([res[i : i + inp_words, :] for i in range(n)])\n",
    "Y = res[inp_words:]"
   ]
  },
  {
   "cell_type": "code",
   "execution_count": 9,
   "metadata": {},
   "outputs": [
    {
     "name": "stdout",
     "output_type": "stream",
     "text": [
      "Model: \"sequential\"\n",
      "_________________________________________________________________\n",
      " Layer (type)                Output Shape              Param #   \n",
      "=================================================================\n",
      " simple_rnn (SimpleRNN)      (None, 3, 128)            272512    \n",
      "                                                                 \n",
      " simple_rnn_1 (SimpleRNN)    (None, 128)               32896     \n",
      "                                                                 \n",
      " dense (Dense)               (None, 2000)              258000    \n",
      "                                                                 \n",
      "=================================================================\n",
      "Total params: 563,408\n",
      "Trainable params: 563,408\n",
      "Non-trainable params: 0\n",
      "_________________________________________________________________\n"
     ]
    }
   ],
   "source": [
    "model = Sequential()\n",
    "model.add(Input((inp_words, maxWordsCount)))\n",
    "model.add(SimpleRNN(128, activation=\"tanh\", return_sequences=True))  # Добавляем еще один слой SimpleRNN\n",
    "model.add(SimpleRNN(128, activation=\"tanh\"))\n",
    "model.add(Dense(2000, activation=\"softmax\"))  # Увеличиваем количество нейронов в слое Dense\n",
    "model.summary()\n",
    "\n",
    "model.compile(loss=\"categorical_crossentropy\", metrics=[\"accuracy\"], optimizer=\"adam\")"
   ]
  },
  {
   "cell_type": "code",
   "execution_count": 10,
   "metadata": {},
   "outputs": [
    {
     "name": "stdout",
     "output_type": "stream",
     "text": [
      "Epoch 1/100\n",
      "3/3 [==============================] - 3s 13ms/step - loss: 7.6023 - accuracy: 0.0000e+00\n",
      "Epoch 2/100\n",
      "3/3 [==============================] - 0s 11ms/step - loss: 7.5416 - accuracy: 0.1463\n",
      "Epoch 3/100\n",
      "3/3 [==============================] - 0s 12ms/step - loss: 7.4753 - accuracy: 0.5366\n",
      "Epoch 4/100\n",
      "3/3 [==============================] - 0s 12ms/step - loss: 7.3808 - accuracy: 0.4878\n",
      "Epoch 5/100\n",
      "3/3 [==============================] - 0s 11ms/step - loss: 7.2245 - accuracy: 0.2073\n",
      "Epoch 6/100\n",
      "3/3 [==============================] - 0s 11ms/step - loss: 6.9401 - accuracy: 0.0854\n",
      "Epoch 7/100\n",
      "3/3 [==============================] - 0s 10ms/step - loss: 6.4490 - accuracy: 0.0610\n",
      "Epoch 8/100\n",
      "3/3 [==============================] - 0s 10ms/step - loss: 5.7272 - accuracy: 0.0610\n",
      "Epoch 9/100\n",
      "3/3 [==============================] - 0s 11ms/step - loss: 5.0035 - accuracy: 0.0610\n",
      "Epoch 10/100\n",
      "3/3 [==============================] - 0s 11ms/step - loss: 4.5550 - accuracy: 0.0610\n",
      "Epoch 11/100\n",
      "3/3 [==============================] - 0s 10ms/step - loss: 4.3396 - accuracy: 0.0610\n",
      "Epoch 12/100\n",
      "3/3 [==============================] - 0s 10ms/step - loss: 4.2274 - accuracy: 0.0610\n",
      "Epoch 13/100\n",
      "3/3 [==============================] - 0s 12ms/step - loss: 4.1695 - accuracy: 0.0610\n",
      "Epoch 14/100\n",
      "3/3 [==============================] - 0s 17ms/step - loss: 4.1312 - accuracy: 0.0610\n",
      "Epoch 15/100\n",
      "3/3 [==============================] - 0s 13ms/step - loss: 4.1088 - accuracy: 0.0610\n",
      "Epoch 16/100\n",
      "3/3 [==============================] - 0s 11ms/step - loss: 4.0972 - accuracy: 0.0732\n",
      "Epoch 17/100\n",
      "3/3 [==============================] - 0s 16ms/step - loss: 4.0825 - accuracy: 0.0488\n",
      "Epoch 18/100\n",
      "3/3 [==============================] - 0s 12ms/step - loss: 4.0772 - accuracy: 0.0488\n",
      "Epoch 19/100\n",
      "3/3 [==============================] - 0s 12ms/step - loss: 4.0717 - accuracy: 0.0732\n",
      "Epoch 20/100\n",
      "3/3 [==============================] - 0s 13ms/step - loss: 4.0638 - accuracy: 0.0610\n",
      "Epoch 21/100\n",
      "3/3 [==============================] - 0s 11ms/step - loss: 4.0591 - accuracy: 0.0610\n",
      "Epoch 22/100\n",
      "3/3 [==============================] - 0s 10ms/step - loss: 4.0484 - accuracy: 0.0732\n",
      "Epoch 23/100\n",
      "3/3 [==============================] - 0s 11ms/step - loss: 4.0383 - accuracy: 0.0732\n",
      "Epoch 24/100\n",
      "3/3 [==============================] - 0s 17ms/step - loss: 4.0269 - accuracy: 0.0732\n",
      "Epoch 25/100\n",
      "3/3 [==============================] - 0s 14ms/step - loss: 4.0135 - accuracy: 0.0610\n",
      "Epoch 26/100\n",
      "3/3 [==============================] - 0s 12ms/step - loss: 3.9989 - accuracy: 0.0610\n",
      "Epoch 27/100\n",
      "3/3 [==============================] - 0s 17ms/step - loss: 3.9850 - accuracy: 0.0610\n",
      "Epoch 28/100\n",
      "3/3 [==============================] - 0s 11ms/step - loss: 3.9659 - accuracy: 0.0610\n",
      "Epoch 29/100\n",
      "3/3 [==============================] - 0s 11ms/step - loss: 3.9412 - accuracy: 0.0610\n",
      "Epoch 30/100\n",
      "3/3 [==============================] - 0s 10ms/step - loss: 3.9141 - accuracy: 0.0610\n",
      "Epoch 31/100\n",
      "3/3 [==============================] - 0s 10ms/step - loss: 3.8866 - accuracy: 0.0732\n",
      "Epoch 32/100\n",
      "3/3 [==============================] - 0s 10ms/step - loss: 3.8577 - accuracy: 0.0976\n",
      "Epoch 33/100\n",
      "3/3 [==============================] - 0s 10ms/step - loss: 3.8217 - accuracy: 0.0976\n",
      "Epoch 34/100\n",
      "3/3 [==============================] - 0s 11ms/step - loss: 3.7816 - accuracy: 0.0976\n",
      "Epoch 35/100\n",
      "3/3 [==============================] - 0s 11ms/step - loss: 3.7405 - accuracy: 0.0976\n",
      "Epoch 36/100\n",
      "3/3 [==============================] - 0s 11ms/step - loss: 3.6967 - accuracy: 0.1098\n",
      "Epoch 37/100\n",
      "3/3 [==============================] - 0s 10ms/step - loss: 3.6485 - accuracy: 0.1098\n",
      "Epoch 38/100\n",
      "3/3 [==============================] - 0s 12ms/step - loss: 3.5966 - accuracy: 0.1341\n",
      "Epoch 39/100\n",
      "3/3 [==============================] - 0s 11ms/step - loss: 3.5396 - accuracy: 0.1463\n",
      "Epoch 40/100\n",
      "3/3 [==============================] - 0s 10ms/step - loss: 3.4722 - accuracy: 0.1585\n",
      "Epoch 41/100\n",
      "3/3 [==============================] - 0s 9ms/step - loss: 3.3984 - accuracy: 0.1951\n",
      "Epoch 42/100\n",
      "3/3 [==============================] - 0s 11ms/step - loss: 3.3189 - accuracy: 0.2195\n",
      "Epoch 43/100\n",
      "3/3 [==============================] - 0s 11ms/step - loss: 3.2452 - accuracy: 0.2683\n",
      "Epoch 44/100\n",
      "3/3 [==============================] - 0s 10ms/step - loss: 3.1523 - accuracy: 0.3049\n",
      "Epoch 45/100\n",
      "3/3 [==============================] - 0s 11ms/step - loss: 3.0548 - accuracy: 0.3171\n",
      "Epoch 46/100\n",
      "3/3 [==============================] - 0s 10ms/step - loss: 2.9619 - accuracy: 0.3537\n",
      "Epoch 47/100\n",
      "3/3 [==============================] - 0s 11ms/step - loss: 2.8650 - accuracy: 0.3659\n",
      "Epoch 48/100\n",
      "3/3 [==============================] - 0s 12ms/step - loss: 2.7604 - accuracy: 0.4146\n",
      "Epoch 49/100\n",
      "3/3 [==============================] - 0s 10ms/step - loss: 2.6597 - accuracy: 0.4634\n",
      "Epoch 50/100\n",
      "3/3 [==============================] - 0s 11ms/step - loss: 2.5541 - accuracy: 0.5000\n",
      "Epoch 51/100\n",
      "3/3 [==============================] - 0s 11ms/step - loss: 2.4492 - accuracy: 0.5244\n",
      "Epoch 52/100\n",
      "3/3 [==============================] - 0s 18ms/step - loss: 2.3407 - accuracy: 0.5610\n",
      "Epoch 53/100\n",
      "3/3 [==============================] - 0s 10ms/step - loss: 2.2392 - accuracy: 0.5854\n",
      "Epoch 54/100\n",
      "3/3 [==============================] - 0s 10ms/step - loss: 2.1310 - accuracy: 0.6707\n",
      "Epoch 55/100\n",
      "3/3 [==============================] - 0s 11ms/step - loss: 2.0304 - accuracy: 0.7073\n",
      "Epoch 56/100\n",
      "3/3 [==============================] - 0s 11ms/step - loss: 1.9292 - accuracy: 0.7561\n",
      "Epoch 57/100\n",
      "3/3 [==============================] - 0s 11ms/step - loss: 1.8303 - accuracy: 0.8293\n",
      "Epoch 58/100\n",
      "3/3 [==============================] - 0s 12ms/step - loss: 1.7347 - accuracy: 0.8537\n",
      "Epoch 59/100\n",
      "3/3 [==============================] - 0s 10ms/step - loss: 1.6417 - accuracy: 0.8537\n",
      "Epoch 60/100\n",
      "3/3 [==============================] - 0s 10ms/step - loss: 1.5502 - accuracy: 0.8780\n",
      "Epoch 61/100\n",
      "3/3 [==============================] - 0s 11ms/step - loss: 1.4617 - accuracy: 0.8780\n",
      "Epoch 62/100\n",
      "3/3 [==============================] - 0s 12ms/step - loss: 1.3834 - accuracy: 0.9024\n",
      "Epoch 63/100\n",
      "3/3 [==============================] - 0s 11ms/step - loss: 1.3016 - accuracy: 0.9024\n",
      "Epoch 64/100\n",
      "3/3 [==============================] - 0s 10ms/step - loss: 1.2231 - accuracy: 0.9268\n",
      "Epoch 65/100\n",
      "3/3 [==============================] - 0s 10ms/step - loss: 1.1520 - accuracy: 0.9146\n",
      "Epoch 66/100\n",
      "3/3 [==============================] - 0s 11ms/step - loss: 1.0845 - accuracy: 0.9268\n",
      "Epoch 67/100\n",
      "3/3 [==============================] - 0s 11ms/step - loss: 1.0211 - accuracy: 0.9512\n",
      "Epoch 68/100\n",
      "3/3 [==============================] - 0s 11ms/step - loss: 0.9600 - accuracy: 0.9634\n",
      "Epoch 69/100\n",
      "3/3 [==============================] - 0s 11ms/step - loss: 0.9044 - accuracy: 0.9512\n",
      "Epoch 70/100\n",
      "3/3 [==============================] - 0s 13ms/step - loss: 0.8533 - accuracy: 0.9512\n",
      "Epoch 71/100\n",
      "3/3 [==============================] - 0s 10ms/step - loss: 0.8031 - accuracy: 0.9756\n",
      "Epoch 72/100\n",
      "3/3 [==============================] - 0s 11ms/step - loss: 0.7568 - accuracy: 0.9756\n",
      "Epoch 73/100\n",
      "3/3 [==============================] - 0s 10ms/step - loss: 0.7147 - accuracy: 0.9756\n",
      "Epoch 74/100\n",
      "3/3 [==============================] - 0s 10ms/step - loss: 0.6740 - accuracy: 0.9878\n",
      "Epoch 75/100\n",
      "3/3 [==============================] - 0s 11ms/step - loss: 0.6376 - accuracy: 0.9756\n",
      "Epoch 76/100\n",
      "3/3 [==============================] - 0s 12ms/step - loss: 0.6048 - accuracy: 0.9756\n",
      "Epoch 77/100\n",
      "3/3 [==============================] - 0s 10ms/step - loss: 0.5726 - accuracy: 0.9756\n",
      "Epoch 78/100\n",
      "3/3 [==============================] - 0s 11ms/step - loss: 0.5433 - accuracy: 0.9756\n",
      "Epoch 79/100\n",
      "3/3 [==============================] - 0s 11ms/step - loss: 0.5156 - accuracy: 0.9756\n",
      "Epoch 80/100\n",
      "3/3 [==============================] - 0s 11ms/step - loss: 0.4900 - accuracy: 0.9878\n",
      "Epoch 81/100\n",
      "3/3 [==============================] - 0s 11ms/step - loss: 0.4671 - accuracy: 0.9878\n",
      "Epoch 82/100\n",
      "3/3 [==============================] - 0s 11ms/step - loss: 0.4443 - accuracy: 0.9878\n",
      "Epoch 83/100\n",
      "3/3 [==============================] - 0s 13ms/step - loss: 0.4232 - accuracy: 0.9878\n",
      "Epoch 84/100\n",
      "3/3 [==============================] - 0s 15ms/step - loss: 0.4042 - accuracy: 0.9878\n",
      "Epoch 85/100\n",
      "3/3 [==============================] - 0s 18ms/step - loss: 0.3876 - accuracy: 0.9756\n",
      "Epoch 86/100\n",
      "3/3 [==============================] - 0s 11ms/step - loss: 0.3693 - accuracy: 0.9878\n",
      "Epoch 87/100\n",
      "3/3 [==============================] - 0s 11ms/step - loss: 0.3541 - accuracy: 0.9878\n",
      "Epoch 88/100\n",
      "3/3 [==============================] - 0s 10ms/step - loss: 0.3383 - accuracy: 0.9878\n",
      "Epoch 89/100\n",
      "3/3 [==============================] - 0s 10ms/step - loss: 0.3254 - accuracy: 0.9878\n",
      "Epoch 90/100\n",
      "3/3 [==============================] - 0s 11ms/step - loss: 0.3111 - accuracy: 0.9878\n",
      "Epoch 91/100\n",
      "3/3 [==============================] - 0s 11ms/step - loss: 0.3006 - accuracy: 0.9756\n",
      "Epoch 92/100\n",
      "3/3 [==============================] - 0s 12ms/step - loss: 0.2879 - accuracy: 0.9756\n",
      "Epoch 93/100\n",
      "3/3 [==============================] - 0s 12ms/step - loss: 0.2768 - accuracy: 0.9878\n",
      "Epoch 94/100\n",
      "3/3 [==============================] - 0s 11ms/step - loss: 0.2666 - accuracy: 0.9878\n",
      "Epoch 95/100\n",
      "3/3 [==============================] - 0s 10ms/step - loss: 0.2565 - accuracy: 0.9878\n",
      "Epoch 96/100\n",
      "3/3 [==============================] - 0s 10ms/step - loss: 0.2472 - accuracy: 0.9878\n",
      "Epoch 97/100\n",
      "3/3 [==============================] - 0s 11ms/step - loss: 0.2386 - accuracy: 0.9878\n",
      "Epoch 98/100\n",
      "3/3 [==============================] - 0s 15ms/step - loss: 0.2310 - accuracy: 0.9878\n",
      "Epoch 99/100\n",
      "3/3 [==============================] - 0s 12ms/step - loss: 0.2247 - accuracy: 0.9756\n",
      "Epoch 100/100\n",
      "3/3 [==============================] - 0s 11ms/step - loss: 0.2161 - accuracy: 0.9878\n"
     ]
    }
   ],
   "source": [
    "history = model.fit(X, Y, batch_size=32, epochs=100)"
   ]
  },
  {
   "cell_type": "code",
   "execution_count": 15,
   "metadata": {},
   "outputs": [],
   "source": [
    "def buildPhrase(texts, str_len=21):\n",
    "    res = texts\n",
    "    data = tokenizer.texts_to_sequences([texts])[0]\n",
    "    for i in range(str_len):\n",
    "        x = keras.utils.to_categorical(\n",
    "            data[i : i + inp_words], num_classes=maxWordsCount\n",
    "        )  # преобразуем в One-Hot-encoding\n",
    "        inp = x.reshape(1, inp_words, maxWordsCount)\n",
    "\n",
    "        pred = model.predict(inp)  # предсказываем OHE четвертого символа\n",
    "        indx = pred.argmax(axis=1)[0]\n",
    "        data.append(indx)\n",
    "\n",
    "        res += f\" {tokenizer.index_word[indx]}\"\n",
    "\n",
    "    return res"
   ]
  },
  {
   "cell_type": "code",
   "execution_count": 16,
   "metadata": {},
   "outputs": [
    {
     "name": "stdout",
     "output_type": "stream",
     "text": [
      "1/1 [==============================] - 0s 25ms/step\n",
      "1/1 [==============================] - 0s 83ms/step\n",
      "1/1 [==============================] - 0s 29ms/step\n",
      "1/1 [==============================] - 0s 22ms/step\n",
      "1/1 [==============================] - 0s 26ms/step\n",
      "1/1 [==============================] - 0s 24ms/step\n",
      "1/1 [==============================] - 0s 24ms/step\n",
      "1/1 [==============================] - 0s 24ms/step\n",
      "1/1 [==============================] - 0s 23ms/step\n",
      "1/1 [==============================] - 0s 27ms/step\n",
      "1/1 [==============================] - 0s 22ms/step\n",
      "1/1 [==============================] - 0s 21ms/step\n",
      "1/1 [==============================] - 0s 24ms/step\n",
      "1/1 [==============================] - 0s 22ms/step\n",
      "1/1 [==============================] - 0s 24ms/step\n",
      "1/1 [==============================] - 0s 25ms/step\n",
      "1/1 [==============================] - 0s 25ms/step\n",
      "1/1 [==============================] - 0s 25ms/step\n",
      "1/1 [==============================] - 0s 25ms/step\n",
      "1/1 [==============================] - 0s 25ms/step\n",
      "1/1 [==============================] - 0s 26ms/step\n",
      "не бойтесь провалов они часть пути к успеху сделай сегодня то что другие не хотят и завтра будешь жить так как другие не могут\n"
     ]
    }
   ],
   "source": [
    "res = buildPhrase(\"не бойтесь провалов\")\n",
    "print(res)"
   ]
  }
 ],
 "metadata": {
  "kernelspec": {
   "display_name": ".venv",
   "language": "python",
   "name": "python3"
  },
  "language_info": {
   "codemirror_mode": {
    "name": "ipython",
    "version": 3
   },
   "file_extension": ".py",
   "mimetype": "text/x-python",
   "name": "python",
   "nbconvert_exporter": "python",
   "pygments_lexer": "ipython3",
   "version": "3.11.8"
  }
 },
 "nbformat": 4,
 "nbformat_minor": 2
}
