{
 "cells": [
  {
   "cell_type": "code",
   "execution_count": 1,
   "metadata": {},
   "outputs": [],
   "source": [
    "from PIL import Image\n",
    "import numpy as np\n",
    "import matplotlib.pyplot as plt\n",
    "from skimage import io\n",
    "import os"
   ]
  },
  {
   "cell_type": "code",
   "execution_count": 2,
   "metadata": {},
   "outputs": [],
   "source": [
    "def download_data(path):\n",
    "    data = []\n",
    "    for path_image in sorted(os.listdir(path=path)):\n",
    "        image = Image.open(path + path_image)  # Открываем изображение.\n",
    "        data.append(np.array(image))  # Загружаем пиксели.\n",
    "    return data"
   ]
  },
  {
   "cell_type": "code",
   "execution_count": 4,
   "metadata": {},
   "outputs": [],
   "source": [
    "X_train = download_data(\"./train/images/\")\n",
    "Y_train = download_data(\"./train/masks/\")\n",
    "X_test = download_data(\"./test/images/\")\n",
    "Y_test = download_data(\"./test/masks/\")"
   ]
  },
  {
   "cell_type": "code",
   "execution_count": 28,
   "metadata": {},
   "outputs": [
    {
     "data": {
      "text/plain": [
       "array([[[177, 181, 184],\n",
       "        [205, 209, 212],\n",
       "        [219, 222, 227],\n",
       "        ...,\n",
       "        [226, 229, 244],\n",
       "        [230, 233, 250],\n",
       "        [243, 246, 255]],\n",
       "\n",
       "       [[217, 221, 224],\n",
       "        [244, 248, 251],\n",
       "        [252, 255, 255],\n",
       "        ...,\n",
       "        [229, 232, 247],\n",
       "        [217, 220, 235],\n",
       "        [208, 211, 226]],\n",
       "\n",
       "       [[234, 238, 241],\n",
       "        [252, 255, 255],\n",
       "        [250, 253, 255],\n",
       "        ...,\n",
       "        [240, 242, 255],\n",
       "        [237, 239, 252],\n",
       "        [226, 228, 241]],\n",
       "\n",
       "       ...,\n",
       "\n",
       "       [[201, 198, 209],\n",
       "        [221, 218, 229],\n",
       "        [221, 215, 225],\n",
       "        ...,\n",
       "        [241, 234, 224],\n",
       "        [255, 250, 240],\n",
       "        [255, 251, 241]],\n",
       "\n",
       "       [[194, 191, 202],\n",
       "        [215, 212, 223],\n",
       "        [223, 217, 227],\n",
       "        ...,\n",
       "        [222, 215, 205],\n",
       "        [230, 223, 213],\n",
       "        [223, 216, 206]],\n",
       "\n",
       "       [[212, 209, 220],\n",
       "        [195, 192, 203],\n",
       "        [179, 173, 183],\n",
       "        ...,\n",
       "        [240, 233, 223],\n",
       "        [255, 248, 238],\n",
       "        [253, 246, 236]]], dtype=uint8)"
      ]
     },
     "execution_count": 28,
     "metadata": {},
     "output_type": "execute_result"
    }
   ],
   "source": [
    "X_train[0]"
   ]
  },
  {
   "cell_type": "code",
   "execution_count": 9,
   "metadata": {},
   "outputs": [
    {
     "data": {
      "text/plain": [
       "array([[[132,  41, 246, 255],\n",
       "        [132,  41, 246, 255],\n",
       "        [132,  41, 246, 255],\n",
       "        ...,\n",
       "        [132,  41, 246, 255],\n",
       "        [132,  41, 246, 255],\n",
       "        [132,  41, 246, 255]],\n",
       "\n",
       "       [[132,  41, 246, 255],\n",
       "        [132,  41, 246, 255],\n",
       "        [132,  41, 246, 255],\n",
       "        ...,\n",
       "        [132,  41, 246, 255],\n",
       "        [132,  41, 246, 255],\n",
       "        [132,  41, 246, 255]],\n",
       "\n",
       "       [[132,  41, 246, 255],\n",
       "        [132,  41, 246, 255],\n",
       "        [132,  41, 246, 255],\n",
       "        ...,\n",
       "        [132,  41, 246, 255],\n",
       "        [132,  41, 246, 255],\n",
       "        [132,  41, 246, 255]],\n",
       "\n",
       "       ...,\n",
       "\n",
       "       [[132,  41, 246, 255],\n",
       "        [132,  41, 246, 255],\n",
       "        [132,  41, 246, 255],\n",
       "        ...,\n",
       "        [132,  41, 246, 255],\n",
       "        [132,  41, 246, 255],\n",
       "        [132,  41, 246, 255]],\n",
       "\n",
       "       [[132,  41, 246, 255],\n",
       "        [132,  41, 246, 255],\n",
       "        [132,  41, 246, 255],\n",
       "        ...,\n",
       "        [132,  41, 246, 255],\n",
       "        [132,  41, 246, 255],\n",
       "        [132,  41, 246, 255]],\n",
       "\n",
       "       [[132,  41, 246, 255],\n",
       "        [132,  41, 246, 255],\n",
       "        [132,  41, 246, 255],\n",
       "        ...,\n",
       "        [132,  41, 246, 255],\n",
       "        [132,  41, 246, 255],\n",
       "        [132,  41, 246, 255]]], dtype=uint8)"
      ]
     },
     "execution_count": 9,
     "metadata": {},
     "output_type": "execute_result"
    }
   ],
   "source": [
    "Y_train[0]"
   ]
  },
  {
   "cell_type": "code",
   "execution_count": 15,
   "metadata": {},
   "outputs": [
    {
     "data": {
      "text/plain": [
       "7"
      ]
     },
     "execution_count": 15,
     "metadata": {},
     "output_type": "execute_result"
    }
   ],
   "source": [
    "len(Y_train)"
   ]
  },
  {
   "cell_type": "code",
   "execution_count": 16,
   "metadata": {},
   "outputs": [
    {
     "data": {
      "text/plain": [
       "796"
      ]
     },
     "execution_count": 16,
     "metadata": {},
     "output_type": "execute_result"
    }
   ],
   "source": [
    "len(Y_train[0][0])"
   ]
  },
  {
   "cell_type": "code",
   "execution_count": 17,
   "metadata": {},
   "outputs": [
    {
     "data": {
      "text/plain": [
       "4"
      ]
     },
     "execution_count": 17,
     "metadata": {},
     "output_type": "execute_result"
    }
   ],
   "source": [
    "len(Y_train[0][0][0])"
   ]
  },
  {
   "cell_type": "code",
   "execution_count": 19,
   "metadata": {},
   "outputs": [],
   "source": [
    "palette = {\n",
    "    0: (60, 16, 152),  # Building\n",
    "    1: (132, 41, 246),  # Land\n",
    "    2: (110, 193, 228),  # Road\n",
    "    3: (254, 221, 58),  # Vegetation\n",
    "    4: (226, 169, 41),  # Water\n",
    "    5: (155, 155, 155),  # Unlabeled\n",
    "}"
   ]
  },
  {
   "cell_type": "code",
   "execution_count": 22,
   "metadata": {},
   "outputs": [],
   "source": [
    "invert_palette = {v: k for k, v in palette.items()}"
   ]
  },
  {
   "cell_type": "code",
   "execution_count": 20,
   "metadata": {},
   "outputs": [],
   "source": [
    "# сегментация нейронной сети в RGB изображение\n",
    "def convert_to_color(arr_2d, palette=palette):\n",
    "    \"\"\"Numeric labels to RGB-color encoding\"\"\"\n",
    "    arr_3d = np.zeros((arr_2d.shape[0], arr_2d.shape[1], 3), dtype=np.uint8)\n",
    "\n",
    "    for c, i in palette.items():\n",
    "        m = arr_2d == c\n",
    "        arr_3d[m] = i\n",
    "\n",
    "    return arr_3d"
   ]
  },
  {
   "cell_type": "code",
   "execution_count": 23,
   "metadata": {},
   "outputs": [],
   "source": [
    "def convert_from_color(arr_3d, palette=invert_palette):\n",
    "    \"\"\"RGB-color encoding to grayscale labels\"\"\"\n",
    "    arr_2d = np.zeros((arr_3d.shape[0], arr_3d.shape[1]), dtype=np.uint8)\n",
    "\n",
    "    arr_2d = np.zeros((arr_3d.shape[0], arr_3d.shape[1]), dtype=np.int8)  # принадлежность каждого пикселя классу\n",
    "    min_distance = (\n",
    "        np.zeros((arr_3d.shape[0], arr_3d.shape[1]), dtype=np.float32) + 1000\n",
    "    )  # расстояние до ближайшего класса для пикселей\n",
    "    for c, i in palette.items():\n",
    "        distance = np.sum((arr_3d - np.array(c).reshape(1, 1, 3)) ** 2, axis=-1) ** (\n",
    "            1 / 2\n",
    "        )  # ищем расстояние для каждого пикселя до проверяемого класса по евклиду рас-ие\n",
    "        condition = min_distance > distance  # поиск элементов меньше min_distance\n",
    "        min_distance[condition] = distance[condition]  # замена дистанции найденных элементов\n",
    "        arr_2d[condition] = i  # замена класса найденных элементов\n",
    "\n",
    "    for c, i in palette.items():\n",
    "        m = np.all(arr_3d == np.array(c).reshape(1, 1, 3), axis=2)\n",
    "        arr_2d[m] = i\n",
    "\n",
    "    arr_2d = arr_2d.tolist()\n",
    "    for i in range(len(arr_2d)):\n",
    "        for j in range(len(arr_2d[0])):\n",
    "            label = [0, 0, 0, 0, 0, 0]\n",
    "            label[arr_2d[i][j]] = 1\n",
    "            arr_2d[i][j] = label\n",
    "    arr_2d = np.array(arr_2d)\n",
    "\n",
    "    return arr_2d"
   ]
  },
  {
   "cell_type": "code",
   "execution_count": 29,
   "metadata": {},
   "outputs": [],
   "source": [
    "X_train_pred = np.array(X_train).reshape([7, 644, 796, 3]) / 255\n",
    "X_test_pred = np.array(X_test).reshape([2, 644, 796, 3]) / 255\n",
    "Y_train_pred = []\n",
    "for i in range(len(Y_train)):\n",
    "    Y_train_pred.append(convert_from_color(Y_train[i][:, :, :3]))\n",
    "Y_train_pred = np.array(Y_train_pred)\n",
    "Y_test_pred = []\n",
    "for i in range(len(Y_test)):\n",
    "    Y_test_pred.append(convert_from_color(Y_test[i][:, :, :3]))\n",
    "Y_test_pred = np.array(Y_test_pred)"
   ]
  },
  {
   "cell_type": "code",
   "execution_count": 30,
   "metadata": {},
   "outputs": [],
   "source": [
    "import numpy as np\n",
    "from keras.models import *\n",
    "from keras.layers import *\n",
    "from keras.optimizers import *"
   ]
  },
  {
   "cell_type": "code",
   "execution_count": 31,
   "metadata": {},
   "outputs": [],
   "source": [
    "def unet_model(image_size, output_classes):\n",
    "\n",
    "    # Входной слой\n",
    "    input_layer = Input(shape=image_size + (3,))\n",
    "    conv_1 = Conv2D(\n",
    "        64, 4, activation=LeakyReLU(), strides=2, padding=\"same\", kernel_initializer=\"glorot_normal\", use_bias=False\n",
    "    )(input_layer)\n",
    "    # Сворачиваем\n",
    "    conv_1_1 = Conv2D(\n",
    "        128, 4, activation=LeakyReLU(), strides=2, padding=\"same\", kernel_initializer=\"glorot_normal\", use_bias=False\n",
    "    )(conv_1)\n",
    "    batch_norm_1 = BatchNormalization()(conv_1_1)\n",
    "\n",
    "    # 2\n",
    "    conv_2 = Conv2D(\n",
    "        256, 4, activation=LeakyReLU(), strides=2, padding=\"same\", kernel_initializer=\"glorot_normal\", use_bias=False\n",
    "    )(batch_norm_1)\n",
    "    batch_norm_2 = BatchNormalization()(conv_2)\n",
    "\n",
    "    # 3\n",
    "    conv_3 = Conv2D(\n",
    "        512, 4, activation=LeakyReLU(), strides=2, padding=\"same\", kernel_initializer=\"glorot_normal\", use_bias=False\n",
    "    )(batch_norm_2)\n",
    "    batch_norm_3 = BatchNormalization()(conv_3)\n",
    "\n",
    "    # 4\n",
    "    conv_4 = Conv2D(\n",
    "        512, 4, activation=LeakyReLU(), strides=2, padding=\"same\", kernel_initializer=\"glorot_normal\", use_bias=False\n",
    "    )(batch_norm_3)\n",
    "    batch_norm_4 = BatchNormalization()(conv_4)\n",
    "\n",
    "    # 5\n",
    "    conv_5 = Conv2D(\n",
    "        512, 4, activation=LeakyReLU(), strides=2, padding=\"same\", kernel_initializer=\"glorot_normal\", use_bias=False\n",
    "    )(batch_norm_4)\n",
    "    batch_norm_5 = BatchNormalization()(conv_5)\n",
    "\n",
    "    # 6\n",
    "    conv_6 = Conv2D(\n",
    "        512, 4, activation=LeakyReLU(), strides=2, padding=\"same\", kernel_initializer=\"glorot_normal\", use_bias=False\n",
    "    )(batch_norm_5)\n",
    "    # Разворачиваем\n",
    "    # 1\n",
    "    up_1 = Concatenate()(\n",
    "        [\n",
    "            Conv2DTranspose(\n",
    "                512, 4, activation=\"relu\", strides=2, padding=\"same\", kernel_initializer=\"glorot_normal\", use_bias=False\n",
    "            )(conv_6),\n",
    "            conv_5,\n",
    "        ]\n",
    "    )\n",
    "    batch_up_1 = BatchNormalization()(up_1)\n",
    "\n",
    "    # Добавим Dropout от переобучения\n",
    "    batch_up_1 = Dropout(0.25)(batch_up_1)\n",
    "\n",
    "    # 2\n",
    "    up_2 = Concatenate()(\n",
    "        [\n",
    "            Conv2DTranspose(\n",
    "                512, 4, activation=\"relu\", strides=2, padding=\"same\", kernel_initializer=\"glorot_normal\", use_bias=False\n",
    "            )(batch_up_1),\n",
    "            conv_4,\n",
    "        ]\n",
    "    )\n",
    "    batch_up_2 = BatchNormalization()(up_2)\n",
    "    batch_up_2 = Dropout(0.25)(batch_up_2)\n",
    "\n",
    "    # 3\n",
    "    up_3 = Concatenate()(\n",
    "        [\n",
    "            Conv2DTranspose(\n",
    "                512, 4, activation=\"relu\", strides=2, padding=\"same\", kernel_initializer=\"glorot_normal\", use_bias=False\n",
    "            )(batch_up_2),\n",
    "            conv_3,\n",
    "        ]\n",
    "    )\n",
    "    batch_up_3 = BatchNormalization()(up_3)\n",
    "    batch_up_3 = Dropout(0.25)(batch_up_3)\n",
    "\n",
    "    # 4\n",
    "    up_4 = Concatenate()(\n",
    "        [\n",
    "            Conv2DTranspose(\n",
    "                256, 4, activation=\"relu\", strides=2, padding=\"same\", kernel_initializer=\"glorot_normal\", use_bias=False\n",
    "            )(batch_up_3),\n",
    "            conv_2,\n",
    "        ]\n",
    "    )\n",
    "    batch_up_4 = BatchNormalization()(up_4)\n",
    "\n",
    "    # 5\n",
    "    up_5 = Concatenate()(\n",
    "        [\n",
    "            Conv2DTranspose(\n",
    "                128, 4, activation=\"relu\", strides=2, padding=\"same\", kernel_initializer=\"glorot_normal\", use_bias=False\n",
    "            )(batch_up_4),\n",
    "            conv_1_1,\n",
    "        ]\n",
    "    )\n",
    "    batch_up_5 = BatchNormalization()(up_5)\n",
    "\n",
    "    # 6\n",
    "    up_6 = Concatenate()(\n",
    "        [\n",
    "            Conv2DTranspose(\n",
    "                64, 4, activation=\"relu\", strides=2, padding=\"same\", kernel_initializer=\"glorot_normal\", use_bias=False\n",
    "            )(batch_up_5),\n",
    "            conv_1,\n",
    "        ]\n",
    "    )\n",
    "    batch_up_6 = BatchNormalization()(up_6)\n",
    "\n",
    "    # Выходной слой\n",
    "    output_layer = Conv2DTranspose(\n",
    "        output_classes, 4, activation=\"sigmoid\", strides=2, padding=\"same\", kernel_initializer=\"glorot_normal\"\n",
    "    )(batch_up_6)\n",
    "\n",
    "    return Model(inputs=input_layer, outputs=output_layer)"
   ]
  }
 ],
 "metadata": {
  "kernelspec": {
   "display_name": ".venv",
   "language": "python",
   "name": "python3"
  },
  "language_info": {
   "codemirror_mode": {
    "name": "ipython",
    "version": 3
   },
   "file_extension": ".py",
   "mimetype": "text/x-python",
   "name": "python",
   "nbconvert_exporter": "python",
   "pygments_lexer": "ipython3",
   "version": "3.11.8"
  }
 },
 "nbformat": 4,
 "nbformat_minor": 2
}
