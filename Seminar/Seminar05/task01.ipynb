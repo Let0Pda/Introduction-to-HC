{
 "cells": [
  {
   "cell_type": "code",
   "execution_count": 1,
   "metadata": {},
   "outputs": [],
   "source": [
    "import re"
   ]
  },
  {
   "cell_type": "code",
   "execution_count": 2,
   "metadata": {},
   "outputs": [
    {
     "data": {
      "text/plain": [
       "'Вы  лучший ответ на проблемы которые возникли в понедельникДумайте позитивно и верьте в свою способность достигать отличных результатовЕсли вы смогли в понедельник подняться с постели значит вы супер герой'"
      ]
     },
     "execution_count": 2,
     "metadata": {},
     "output_type": "execute_result"
    }
   ],
   "source": [
    "with open('./train_data.txt', 'r', encoding='utf-8') as f:\n",
    "    text = f.read()\n",
    "    text = text.replace('\\ufeff', '') # убираем первый невидимый символ\n",
    "    text = re.sub(r'[^А-я ]', '', text) # убираем все недопустимые символы\n",
    "text"
   ]
  },
  {
   "cell_type": "code",
   "execution_count": 3,
   "metadata": {},
   "outputs": [
    {
     "data": {
      "text/plain": [
       "205"
      ]
     },
     "execution_count": 3,
     "metadata": {},
     "output_type": "execute_result"
    }
   ],
   "source": [
    "len(text)"
   ]
  },
  {
   "cell_type": "code",
   "execution_count": 4,
   "metadata": {},
   "outputs": [],
   "source": [
    "num_characters = 34  # 33 буквы + пробел"
   ]
  },
  {
   "cell_type": "code",
   "execution_count": 5,
   "metadata": {},
   "outputs": [],
   "source": [
    "import keras\n",
    "from keras.preprocessing.text import Tokenizer"
   ]
  },
  {
   "cell_type": "code",
   "execution_count": 6,
   "metadata": {},
   "outputs": [],
   "source": [
    "tokenizer = Tokenizer(num_words=num_characters, char_level=True)"
   ]
  },
  {
   "cell_type": "code",
   "execution_count": 7,
   "metadata": {},
   "outputs": [],
   "source": [
    "tokenizer.fit_on_texts(text)"
   ]
  },
  {
   "cell_type": "code",
   "execution_count": 8,
   "metadata": {},
   "outputs": [
    {
     "name": "stdout",
     "output_type": "stream",
     "text": [
      "{' ': 1, 'о': 2, 'т': 3, 'е': 4, 'и': 5, 'в': 6, 'н': 7, 'с': 8, 'л': 9, 'п': 10, 'ь': 11, 'ы': 12, 'р': 13, 'а': 14, 'д': 15, 'у': 16, 'к': 17, 'з': 18, 'ч': 19, 'й': 20, 'м': 21, 'г': 22, 'б': 23, 'я': 24, 'ш': 25, 'ю': 26, 'х': 27}\n"
     ]
    }
   ],
   "source": [
    "print(tokenizer.word_index)"
   ]
  },
  {
   "cell_type": "code",
   "execution_count": 9,
   "metadata": {},
   "outputs": [],
   "source": [
    "inp_chars = 6\n",
    "data = tokenizer.texts_to_matrix(text)"
   ]
  },
  {
   "cell_type": "code",
   "execution_count": 10,
   "metadata": {},
   "outputs": [
    {
     "data": {
      "text/plain": [
       "array([0., 0., 0., 0., 0., 0., 0., 0., 0., 0., 0., 0., 1., 0., 0., 0., 0.,\n",
       "       0., 0., 0., 0., 0., 0., 0., 0., 0., 0., 0., 0., 0., 0., 0., 0., 0.])"
      ]
     },
     "execution_count": 10,
     "metadata": {},
     "output_type": "execute_result"
    }
   ],
   "source": [
    "data[1]"
   ]
  },
  {
   "cell_type": "code",
   "execution_count": 11,
   "metadata": {},
   "outputs": [
    {
     "data": {
      "text/plain": [
       "199"
      ]
     },
     "execution_count": 11,
     "metadata": {},
     "output_type": "execute_result"
    }
   ],
   "source": [
    "n = data.shape[0]-inp_chars\n",
    "n"
   ]
  },
  {
   "cell_type": "code",
   "execution_count": 12,
   "metadata": {},
   "outputs": [],
   "source": [
    "import numpy as np"
   ]
  },
  {
   "cell_type": "code",
   "execution_count": 13,
   "metadata": {},
   "outputs": [],
   "source": [
    "X = np.array([data[i : i + inp_chars, :] for i in range(n)])\n",
    "Y = data[inp_chars:]  # предсказание следующего символа"
   ]
  },
  {
   "cell_type": "code",
   "execution_count": 14,
   "metadata": {},
   "outputs": [
    {
     "data": {
      "text/plain": [
       "array([[0., 0., 0., 0., 0., 0., 1., 0., 0., 0., 0., 0., 0., 0., 0., 0.,\n",
       "        0., 0., 0., 0., 0., 0., 0., 0., 0., 0., 0., 0., 0., 0., 0., 0.,\n",
       "        0., 0.],\n",
       "       [0., 0., 0., 0., 0., 0., 0., 0., 0., 0., 0., 0., 1., 0., 0., 0.,\n",
       "        0., 0., 0., 0., 0., 0., 0., 0., 0., 0., 0., 0., 0., 0., 0., 0.,\n",
       "        0., 0.],\n",
       "       [0., 1., 0., 0., 0., 0., 0., 0., 0., 0., 0., 0., 0., 0., 0., 0.,\n",
       "        0., 0., 0., 0., 0., 0., 0., 0., 0., 0., 0., 0., 0., 0., 0., 0.,\n",
       "        0., 0.],\n",
       "       [0., 1., 0., 0., 0., 0., 0., 0., 0., 0., 0., 0., 0., 0., 0., 0.,\n",
       "        0., 0., 0., 0., 0., 0., 0., 0., 0., 0., 0., 0., 0., 0., 0., 0.,\n",
       "        0., 0.],\n",
       "       [0., 0., 0., 0., 0., 0., 0., 0., 0., 1., 0., 0., 0., 0., 0., 0.,\n",
       "        0., 0., 0., 0., 0., 0., 0., 0., 0., 0., 0., 0., 0., 0., 0., 0.,\n",
       "        0., 0.],\n",
       "       [0., 0., 0., 0., 0., 0., 0., 0., 0., 0., 0., 0., 0., 0., 0., 0.,\n",
       "        1., 0., 0., 0., 0., 0., 0., 0., 0., 0., 0., 0., 0., 0., 0., 0.,\n",
       "        0., 0.]])"
      ]
     },
     "execution_count": 14,
     "metadata": {},
     "output_type": "execute_result"
    }
   ],
   "source": [
    "X[0]"
   ]
  },
  {
   "cell_type": "code",
   "execution_count": 15,
   "metadata": {},
   "outputs": [
    {
     "data": {
      "text/plain": [
       "array([0., 0., 0., 0., 0., 0., 0., 0., 0., 0., 0., 0., 0., 0., 0., 0., 0.,\n",
       "       0., 0., 1., 0., 0., 0., 0., 0., 0., 0., 0., 0., 0., 0., 0., 0., 0.])"
      ]
     },
     "execution_count": 15,
     "metadata": {},
     "output_type": "execute_result"
    }
   ],
   "source": [
    "Y[0]"
   ]
  },
  {
   "cell_type": "code",
   "execution_count": 16,
   "metadata": {},
   "outputs": [],
   "source": [
    "from keras.layers import *\n",
    "from keras.models import Sequential"
   ]
  },
  {
   "cell_type": "code",
   "execution_count": 17,
   "metadata": {},
   "outputs": [
    {
     "name": "stdout",
     "output_type": "stream",
     "text": [
      "Model: \"sequential\"\n",
      "_________________________________________________________________\n",
      " Layer (type)                Output Shape              Param #   \n",
      "=================================================================\n",
      " simple_rnn (SimpleRNN)      (None, 500)               267500    \n",
      "                                                                 \n",
      " dense (Dense)               (None, 34)                17034     \n",
      "                                                                 \n",
      "=================================================================\n",
      "Total params: 284,534\n",
      "Trainable params: 284,534\n",
      "Non-trainable params: 0\n",
      "_________________________________________________________________\n"
     ]
    }
   ],
   "source": [
    "model = Sequential()\n",
    "model.add(Input((inp_chars, num_characters)))\n",
    "model.add(SimpleRNN(500, activation=\"tanh\"))\n",
    "model.add(Dense(num_characters, activation=\"softmax\"))\n",
    "model.summary()"
   ]
  },
  {
   "cell_type": "code",
   "execution_count": 18,
   "metadata": {},
   "outputs": [
    {
     "name": "stdout",
     "output_type": "stream",
     "text": [
      "Epoch 1/100\n"
     ]
    },
    {
     "name": "stdout",
     "output_type": "stream",
     "text": [
      "7/7 [==============================] - 2s 14ms/step - loss: 3.3796 - accuracy: 0.1005\n",
      "Epoch 2/100\n",
      "7/7 [==============================] - 0s 13ms/step - loss: 2.3578 - accuracy: 0.3719\n",
      "Epoch 3/100\n",
      "7/7 [==============================] - 0s 13ms/step - loss: 1.8995 - accuracy: 0.4573\n",
      "Epoch 4/100\n",
      "7/7 [==============================] - 0s 13ms/step - loss: 1.5164 - accuracy: 0.5377\n",
      "Epoch 5/100\n",
      "7/7 [==============================] - 0s 13ms/step - loss: 1.2683 - accuracy: 0.6231\n",
      "Epoch 6/100\n",
      "7/7 [==============================] - 0s 13ms/step - loss: 1.0246 - accuracy: 0.7437\n",
      "Epoch 7/100\n",
      "7/7 [==============================] - 0s 13ms/step - loss: 0.8763 - accuracy: 0.7739\n",
      "Epoch 8/100\n",
      "7/7 [==============================] - 0s 13ms/step - loss: 0.7758 - accuracy: 0.8040\n",
      "Epoch 9/100\n",
      "7/7 [==============================] - 0s 13ms/step - loss: 0.7016 - accuracy: 0.8442\n",
      "Epoch 10/100\n",
      "7/7 [==============================] - 0s 12ms/step - loss: 0.6886 - accuracy: 0.8141\n",
      "Epoch 11/100\n",
      "7/7 [==============================] - 0s 12ms/step - loss: 0.6545 - accuracy: 0.7990\n",
      "Epoch 12/100\n",
      "7/7 [==============================] - 0s 13ms/step - loss: 0.6183 - accuracy: 0.8090\n",
      "Epoch 13/100\n",
      "7/7 [==============================] - 0s 13ms/step - loss: 0.5295 - accuracy: 0.8744\n",
      "Epoch 14/100\n",
      "7/7 [==============================] - 0s 13ms/step - loss: 0.4631 - accuracy: 0.8945\n",
      "Epoch 15/100\n",
      "7/7 [==============================] - 0s 13ms/step - loss: 0.4064 - accuracy: 0.9347\n",
      "Epoch 16/100\n",
      "7/7 [==============================] - 0s 13ms/step - loss: 0.3385 - accuracy: 0.9296\n",
      "Epoch 17/100\n",
      "7/7 [==============================] - 0s 13ms/step - loss: 0.3129 - accuracy: 0.9347\n",
      "Epoch 18/100\n",
      "7/7 [==============================] - 0s 13ms/step - loss: 0.3537 - accuracy: 0.9296\n",
      "Epoch 19/100\n",
      "7/7 [==============================] - 0s 13ms/step - loss: 0.3216 - accuracy: 0.9397\n",
      "Epoch 20/100\n",
      "7/7 [==============================] - 0s 13ms/step - loss: 0.3147 - accuracy: 0.9397\n",
      "Epoch 21/100\n",
      "7/7 [==============================] - 0s 13ms/step - loss: 0.2649 - accuracy: 0.9447\n",
      "Epoch 22/100\n",
      "7/7 [==============================] - 0s 13ms/step - loss: 0.2916 - accuracy: 0.9447\n",
      "Epoch 23/100\n",
      "7/7 [==============================] - 0s 13ms/step - loss: 0.3036 - accuracy: 0.9447\n",
      "Epoch 24/100\n",
      "7/7 [==============================] - 0s 14ms/step - loss: 0.2700 - accuracy: 0.9347\n",
      "Epoch 25/100\n",
      "7/7 [==============================] - 0s 13ms/step - loss: 0.2497 - accuracy: 0.9749\n",
      "Epoch 26/100\n",
      "7/7 [==============================] - 0s 13ms/step - loss: 0.1950 - accuracy: 0.9698\n",
      "Epoch 27/100\n",
      "7/7 [==============================] - 0s 13ms/step - loss: 0.1647 - accuracy: 0.9749\n",
      "Epoch 28/100\n",
      "7/7 [==============================] - 0s 13ms/step - loss: 0.1462 - accuracy: 0.9849\n",
      "Epoch 29/100\n",
      "7/7 [==============================] - 0s 13ms/step - loss: 0.1399 - accuracy: 0.9598\n",
      "Epoch 30/100\n",
      "7/7 [==============================] - 0s 13ms/step - loss: 0.1273 - accuracy: 0.9799\n",
      "Epoch 31/100\n",
      "7/7 [==============================] - 0s 13ms/step - loss: 0.1602 - accuracy: 0.9749\n",
      "Epoch 32/100\n",
      "7/7 [==============================] - 0s 12ms/step - loss: 0.1406 - accuracy: 0.9849\n",
      "Epoch 33/100\n",
      "7/7 [==============================] - 0s 13ms/step - loss: 0.1196 - accuracy: 0.9698\n",
      "Epoch 34/100\n",
      "7/7 [==============================] - 0s 13ms/step - loss: 0.1088 - accuracy: 0.9749\n",
      "Epoch 35/100\n",
      "7/7 [==============================] - 0s 13ms/step - loss: 0.1345 - accuracy: 0.9598\n",
      "Epoch 36/100\n",
      "7/7 [==============================] - 0s 13ms/step - loss: 0.1596 - accuracy: 0.9648\n",
      "Epoch 37/100\n",
      "7/7 [==============================] - 0s 13ms/step - loss: 0.1470 - accuracy: 0.9598\n",
      "Epoch 38/100\n",
      "7/7 [==============================] - 0s 13ms/step - loss: 0.1217 - accuracy: 0.9799\n",
      "Epoch 39/100\n",
      "7/7 [==============================] - 0s 13ms/step - loss: 0.1280 - accuracy: 0.9749\n",
      "Epoch 40/100\n",
      "7/7 [==============================] - 0s 13ms/step - loss: 0.1012 - accuracy: 0.9749\n",
      "Epoch 41/100\n",
      "7/7 [==============================] - 0s 14ms/step - loss: 0.0721 - accuracy: 0.9849\n",
      "Epoch 42/100\n",
      "7/7 [==============================] - 0s 13ms/step - loss: 0.0641 - accuracy: 0.9899\n",
      "Epoch 43/100\n",
      "7/7 [==============================] - 0s 12ms/step - loss: 0.0595 - accuracy: 0.9899\n",
      "Epoch 44/100\n",
      "7/7 [==============================] - 0s 13ms/step - loss: 0.0550 - accuracy: 0.9899\n",
      "Epoch 45/100\n",
      "7/7 [==============================] - 0s 13ms/step - loss: 0.1123 - accuracy: 0.9698\n",
      "Epoch 46/100\n",
      "7/7 [==============================] - 0s 13ms/step - loss: 0.0695 - accuracy: 0.9749\n",
      "Epoch 47/100\n",
      "7/7 [==============================] - 0s 13ms/step - loss: 0.1659 - accuracy: 0.9749\n",
      "Epoch 48/100\n",
      "7/7 [==============================] - 0s 13ms/step - loss: 0.1652 - accuracy: 0.9648\n",
      "Epoch 49/100\n",
      "7/7 [==============================] - 0s 13ms/step - loss: 0.1776 - accuracy: 0.9397\n",
      "Epoch 50/100\n",
      "7/7 [==============================] - 0s 12ms/step - loss: 0.0986 - accuracy: 0.9799\n",
      "Epoch 51/100\n",
      "7/7 [==============================] - 0s 13ms/step - loss: 0.0674 - accuracy: 0.9899\n",
      "Epoch 52/100\n",
      "7/7 [==============================] - 0s 13ms/step - loss: 0.0648 - accuracy: 0.9799\n",
      "Epoch 53/100\n",
      "7/7 [==============================] - 0s 13ms/step - loss: 0.0572 - accuracy: 0.9899\n",
      "Epoch 54/100\n",
      "7/7 [==============================] - 0s 28ms/step - loss: 0.0505 - accuracy: 0.9950\n",
      "Epoch 55/100\n",
      "7/7 [==============================] - 0s 12ms/step - loss: 0.0483 - accuracy: 0.9849\n",
      "Epoch 56/100\n",
      "7/7 [==============================] - 0s 13ms/step - loss: 0.0443 - accuracy: 0.9799\n",
      "Epoch 57/100\n",
      "7/7 [==============================] - 0s 13ms/step - loss: 0.0420 - accuracy: 0.9899\n",
      "Epoch 58/100\n",
      "7/7 [==============================] - 0s 13ms/step - loss: 0.0335 - accuracy: 0.9899\n",
      "Epoch 59/100\n",
      "7/7 [==============================] - 0s 14ms/step - loss: 0.0420 - accuracy: 0.9849\n",
      "Epoch 60/100\n",
      "7/7 [==============================] - 0s 14ms/step - loss: 0.0313 - accuracy: 0.9950\n",
      "Epoch 61/100\n",
      "7/7 [==============================] - 0s 13ms/step - loss: 0.0294 - accuracy: 0.9950\n",
      "Epoch 62/100\n",
      "7/7 [==============================] - 0s 14ms/step - loss: 0.0284 - accuracy: 0.9899\n",
      "Epoch 63/100\n",
      "7/7 [==============================] - 0s 13ms/step - loss: 0.0288 - accuracy: 0.9950\n",
      "Epoch 64/100\n",
      "7/7 [==============================] - 0s 13ms/step - loss: 0.0311 - accuracy: 0.9950\n",
      "Epoch 65/100\n",
      "7/7 [==============================] - 0s 14ms/step - loss: 0.0316 - accuracy: 0.9849\n",
      "Epoch 66/100\n",
      "7/7 [==============================] - 0s 14ms/step - loss: 0.0267 - accuracy: 0.9899\n",
      "Epoch 67/100\n",
      "7/7 [==============================] - 0s 13ms/step - loss: 0.0232 - accuracy: 0.9950\n",
      "Epoch 68/100\n",
      "7/7 [==============================] - 0s 13ms/step - loss: 0.0256 - accuracy: 0.9899\n",
      "Epoch 69/100\n",
      "7/7 [==============================] - 0s 13ms/step - loss: 0.0275 - accuracy: 0.9849\n",
      "Epoch 70/100\n",
      "7/7 [==============================] - 0s 13ms/step - loss: 0.0271 - accuracy: 0.9950\n",
      "Epoch 71/100\n",
      "7/7 [==============================] - 0s 13ms/step - loss: 0.0248 - accuracy: 0.9950\n",
      "Epoch 72/100\n",
      "7/7 [==============================] - 0s 14ms/step - loss: 0.0284 - accuracy: 0.9950\n",
      "Epoch 73/100\n",
      "7/7 [==============================] - 0s 13ms/step - loss: 0.0236 - accuracy: 0.9950\n",
      "Epoch 74/100\n",
      "7/7 [==============================] - 0s 13ms/step - loss: 0.0244 - accuracy: 0.9950\n",
      "Epoch 75/100\n",
      "7/7 [==============================] - 0s 13ms/step - loss: 0.0229 - accuracy: 0.9950\n",
      "Epoch 76/100\n",
      "7/7 [==============================] - 0s 15ms/step - loss: 0.0222 - accuracy: 0.9899\n",
      "Epoch 77/100\n",
      "7/7 [==============================] - 0s 15ms/step - loss: 0.0205 - accuracy: 0.9950\n",
      "Epoch 78/100\n",
      "7/7 [==============================] - 0s 14ms/step - loss: 0.0245 - accuracy: 0.9950\n",
      "Epoch 79/100\n",
      "7/7 [==============================] - 0s 16ms/step - loss: 0.0208 - accuracy: 0.9899\n",
      "Epoch 80/100\n",
      "7/7 [==============================] - 0s 15ms/step - loss: 0.0834 - accuracy: 0.9899\n",
      "Epoch 81/100\n",
      "7/7 [==============================] - 0s 18ms/step - loss: 0.0647 - accuracy: 0.9799\n",
      "Epoch 82/100\n",
      "7/7 [==============================] - 0s 14ms/step - loss: 0.1842 - accuracy: 0.9749\n",
      "Epoch 83/100\n",
      "7/7 [==============================] - 0s 15ms/step - loss: 0.1577 - accuracy: 0.9799\n",
      "Epoch 84/100\n",
      "7/7 [==============================] - 0s 16ms/step - loss: 0.1031 - accuracy: 0.9849\n",
      "Epoch 85/100\n",
      "7/7 [==============================] - 0s 14ms/step - loss: 0.0608 - accuracy: 0.9799\n",
      "Epoch 86/100\n",
      "7/7 [==============================] - 0s 14ms/step - loss: 0.0586 - accuracy: 0.9899\n",
      "Epoch 87/100\n",
      "7/7 [==============================] - 0s 16ms/step - loss: 0.0290 - accuracy: 0.9950\n",
      "Epoch 88/100\n",
      "7/7 [==============================] - 0s 19ms/step - loss: 0.0269 - accuracy: 0.9950\n",
      "Epoch 89/100\n",
      "7/7 [==============================] - 0s 14ms/step - loss: 0.0266 - accuracy: 0.9849\n",
      "Epoch 90/100\n",
      "7/7 [==============================] - 0s 14ms/step - loss: 0.0231 - accuracy: 0.9899\n",
      "Epoch 91/100\n",
      "7/7 [==============================] - 0s 16ms/step - loss: 0.0275 - accuracy: 0.9849\n",
      "Epoch 92/100\n",
      "7/7 [==============================] - 0s 27ms/step - loss: 0.0208 - accuracy: 0.9950\n",
      "Epoch 93/100\n",
      "7/7 [==============================] - 0s 15ms/step - loss: 0.0189 - accuracy: 0.9950\n",
      "Epoch 94/100\n",
      "7/7 [==============================] - 0s 14ms/step - loss: 0.0206 - accuracy: 0.9899\n",
      "Epoch 95/100\n",
      "7/7 [==============================] - 0s 14ms/step - loss: 0.0299 - accuracy: 0.9799\n",
      "Epoch 96/100\n",
      "7/7 [==============================] - 0s 14ms/step - loss: 0.0322 - accuracy: 0.9899\n",
      "Epoch 97/100\n",
      "7/7 [==============================] - 0s 15ms/step - loss: 0.0577 - accuracy: 0.9899\n",
      "Epoch 98/100\n",
      "7/7 [==============================] - 0s 14ms/step - loss: 0.0201 - accuracy: 0.9950\n",
      "Epoch 99/100\n",
      "7/7 [==============================] - 0s 15ms/step - loss: 0.0616 - accuracy: 0.9899\n",
      "Epoch 100/100\n",
      "7/7 [==============================] - 0s 14ms/step - loss: 0.0329 - accuracy: 0.9899\n"
     ]
    }
   ],
   "source": [
    "model.compile(loss=\"categorical_crossentropy\", metrics=[\"accuracy\"], optimizer=\"adam\")\n",
    "history = model.fit(X, Y, batch_size=32, epochs=100)"
   ]
  },
  {
   "cell_type": "code",
   "execution_count": 19,
   "metadata": {},
   "outputs": [],
   "source": [
    "def buildPhrase(inp_str, str_len = 50):\n",
    "    for i in range(str_len):\n",
    "        x = []\n",
    "        for j in range(i, i+inp_chars):\n",
    "            x.append(tokenizer.texts_to_matrix(inp_str[j])) # преобразуем символы в One-Hot-encoding\n",
    "\n",
    "        x = np.array(x)\n",
    "        inp = x.reshape(1, inp_chars, num_characters)\n",
    "\n",
    "        pred = model.predict( inp ) # предсказываем OHE четвертого символа\n",
    "        d = tokenizer.index_word[pred.argmax(axis=1)[0]] # получаем ответ в символьном представлении\n",
    "\n",
    "        inp_str += d # дописываем строку\n",
    "\n",
    "    return inp_str"
   ]
  },
  {
   "cell_type": "code",
   "execution_count": 20,
   "metadata": {},
   "outputs": [
    {
     "name": "stdout",
     "output_type": "stream",
     "text": [
      "1/1 [==============================] - 0s 296ms/step\n",
      "1/1 [==============================] - 0s 28ms/step\n",
      "1/1 [==============================] - 0s 23ms/step\n",
      "1/1 [==============================] - 0s 23ms/step\n",
      "1/1 [==============================] - 0s 24ms/step\n",
      "1/1 [==============================] - 0s 23ms/step\n",
      "1/1 [==============================] - 0s 22ms/step\n",
      "1/1 [==============================] - 0s 23ms/step\n",
      "1/1 [==============================] - 0s 24ms/step\n",
      "1/1 [==============================] - 0s 25ms/step\n",
      "1/1 [==============================] - 0s 22ms/step\n",
      "1/1 [==============================] - 0s 24ms/step\n",
      "1/1 [==============================] - 0s 24ms/step\n",
      "1/1 [==============================] - 0s 31ms/step\n",
      "1/1 [==============================] - 0s 31ms/step\n",
      "1/1 [==============================] - 0s 28ms/step\n",
      "1/1 [==============================] - 0s 24ms/step\n",
      "1/1 [==============================] - 0s 27ms/step\n",
      "1/1 [==============================] - 0s 32ms/step\n",
      "1/1 [==============================] - 0s 28ms/step\n",
      "1/1 [==============================] - 0s 26ms/step\n",
      "1/1 [==============================] - 0s 26ms/step\n",
      "1/1 [==============================] - 0s 26ms/step\n",
      "1/1 [==============================] - 0s 25ms/step\n",
      "1/1 [==============================] - 0s 26ms/step\n",
      "1/1 [==============================] - 0s 28ms/step\n",
      "1/1 [==============================] - 0s 28ms/step\n",
      "1/1 [==============================] - 0s 25ms/step\n",
      "1/1 [==============================] - 0s 23ms/step\n",
      "1/1 [==============================] - 0s 26ms/step\n",
      "1/1 [==============================] - 0s 51ms/step\n",
      "1/1 [==============================] - 0s 23ms/step\n",
      "1/1 [==============================] - 0s 23ms/step\n",
      "1/1 [==============================] - 0s 24ms/step\n",
      "1/1 [==============================] - 0s 23ms/step\n",
      "1/1 [==============================] - 0s 24ms/step\n",
      "1/1 [==============================] - 0s 25ms/step\n",
      "1/1 [==============================] - 0s 27ms/step\n",
      "1/1 [==============================] - 0s 23ms/step\n",
      "1/1 [==============================] - 0s 23ms/step\n",
      "1/1 [==============================] - 0s 24ms/step\n",
      "1/1 [==============================] - 0s 23ms/step\n",
      "1/1 [==============================] - 0s 28ms/step\n",
      "1/1 [==============================] - 0s 26ms/step\n",
      "1/1 [==============================] - 0s 22ms/step\n",
      "1/1 [==============================] - 0s 24ms/step\n",
      "1/1 [==============================] - 0s 25ms/step\n",
      "1/1 [==============================] - 0s 26ms/step\n",
      "1/1 [==============================] - 0s 24ms/step\n",
      "1/1 [==============================] - 0s 23ms/step\n",
      "утренноитввд са гяослотс  о теле ьнаоилобл  в коиедыеьни\n"
     ]
    }
   ],
   "source": [
    "res = buildPhrase(\"утренн\")\n",
    "print(res)"
   ]
  },
  {
   "cell_type": "markdown",
   "metadata": {},
   "source": [
    "## Слова"
   ]
  },
  {
   "cell_type": "code",
   "execution_count": 23,
   "metadata": {},
   "outputs": [
    {
     "data": {
      "text/plain": [
       "'Вы — лучший ответ на проблемы, которые возникли в понедельник.\\nДумайте позитивно и верьте в свою способность достигать отличных результатов.\\nЕсли вы смогли в понедельник подняться с постели, значит вы супер герой.'"
      ]
     },
     "execution_count": 23,
     "metadata": {},
     "output_type": "execute_result"
    }
   ],
   "source": [
    "with open(\"./train_data.txt\", \"r\", encoding=\"utf-8\") as f:\n",
    "    texts = f.read()\n",
    "    texts = text.replace(\"\\ufeff\", \"\")  # убираем первый невидимый символ\n",
    "texts"
   ]
  },
  {
   "cell_type": "code",
   "execution_count": 26,
   "metadata": {},
   "outputs": [],
   "source": [
    "maxWordsCount = 1000\n",
    "tokenizer = Tokenizer(\n",
    "    num_words=maxWordsCount,\n",
    "    filters='!–\"—#$%&amp;()*+,-./:;<=>?@[\\\\]^_`{|}~\\t\\n\\r«»',\n",
    "    lower=True,\n",
    "    split=\" \",\n",
    "    char_level=False,\n",
    ")\n",
    "tokenizer.fit_on_texts([texts])\n",
    "# tokenizer.index_word"
   ]
  },
  {
   "cell_type": "code",
   "execution_count": 28,
   "metadata": {},
   "outputs": [
    {
     "name": "stdout",
     "output_type": "stream",
     "text": [
      "[('вы', 3), ('лучший', 1), ('ответ', 1), ('на', 1), ('проблемы', 1), ('которые', 1), ('возникли', 1), ('в', 3), ('понедельник', 2), ('думайте', 1)]\n"
     ]
    }
   ],
   "source": [
    "dist = list(tokenizer.word_counts.items())\n",
    "print(dist[:10])"
   ]
  },
  {
   "cell_type": "code",
   "execution_count": 31,
   "metadata": {},
   "outputs": [
    {
     "data": {
      "text/plain": [
       "[[1,\n",
       "  4,\n",
       "  5,\n",
       "  6,\n",
       "  7,\n",
       "  8,\n",
       "  9,\n",
       "  2,\n",
       "  3,\n",
       "  10,\n",
       "  11,\n",
       "  12,\n",
       "  13,\n",
       "  2,\n",
       "  14,\n",
       "  15,\n",
       "  16,\n",
       "  17,\n",
       "  18,\n",
       "  19,\n",
       "  1,\n",
       "  20,\n",
       "  2,\n",
       "  3,\n",
       "  21,\n",
       "  22,\n",
       "  23,\n",
       "  24,\n",
       "  1,\n",
       "  25,\n",
       "  26]]"
      ]
     },
     "execution_count": 31,
     "metadata": {},
     "output_type": "execute_result"
    }
   ],
   "source": [
    "data = tokenizer.texts_to_sequences([texts])\n",
    "data"
   ]
  },
  {
   "cell_type": "code",
   "execution_count": 33,
   "metadata": {},
   "outputs": [
    {
     "data": {
      "text/plain": [
       "31"
      ]
     },
     "execution_count": 33,
     "metadata": {},
     "output_type": "execute_result"
    }
   ],
   "source": [
    "len(data[0])"
   ]
  },
  {
   "cell_type": "code",
   "execution_count": 32,
   "metadata": {},
   "outputs": [
    {
     "name": "stdout",
     "output_type": "stream",
     "text": [
      "(31, 1000)\n"
     ]
    }
   ],
   "source": [
    "res = keras.utils.to_categorical(data[0], num_classes=maxWordsCount)\n",
    "print(res.shape)"
   ]
  },
  {
   "cell_type": "code",
   "execution_count": 34,
   "metadata": {},
   "outputs": [],
   "source": [
    "inp_words = 3\n",
    "n = res.shape[0] - inp_words"
   ]
  },
  {
   "cell_type": "code",
   "execution_count": 35,
   "metadata": {},
   "outputs": [],
   "source": [
    "X = np.array([res[i : i + inp_words, :] for i in range(n)])\n",
    "Y = res[inp_words:]"
   ]
  },
  {
   "cell_type": "code",
   "execution_count": 36,
   "metadata": {},
   "outputs": [
    {
     "name": "stdout",
     "output_type": "stream",
     "text": [
      "Model: \"sequential_1\"\n",
      "_________________________________________________________________\n",
      " Layer (type)                Output Shape              Param #   \n",
      "=================================================================\n",
      " simple_rnn_1 (SimpleRNN)    (None, 128)               144512    \n",
      "                                                                 \n",
      " dense_1 (Dense)             (None, 1000)              129000    \n",
      "                                                                 \n",
      "=================================================================\n",
      "Total params: 273,512\n",
      "Trainable params: 273,512\n",
      "Non-trainable params: 0\n",
      "_________________________________________________________________\n"
     ]
    }
   ],
   "source": [
    "model = Sequential()\n",
    "model.add(Input((inp_words, maxWordsCount)))\n",
    "model.add(SimpleRNN(128, activation=\"tanh\"))\n",
    "model.add(Dense(maxWordsCount, activation=\"softmax\"))\n",
    "model.summary()\n",
    "\n",
    "model.compile(loss=\"categorical_crossentropy\", metrics=[\"accuracy\"], optimizer=\"adam\")"
   ]
  },
  {
   "cell_type": "code",
   "execution_count": 38,
   "metadata": {},
   "outputs": [
    {
     "name": "stdout",
     "output_type": "stream",
     "text": [
      "Epoch 1/19\n",
      "1/1 [==============================] - 0s 13ms/step - loss: 2.3577 - accuracy: 0.4643\n",
      "Epoch 2/19\n",
      "1/1 [==============================] - 0s 12ms/step - loss: 2.3077 - accuracy: 0.4643\n",
      "Epoch 3/19\n",
      "1/1 [==============================] - 0s 11ms/step - loss: 2.2546 - accuracy: 0.5357\n",
      "Epoch 4/19\n",
      "1/1 [==============================] - 0s 12ms/step - loss: 2.1987 - accuracy: 0.5714\n",
      "Epoch 5/19\n",
      "1/1 [==============================] - 0s 13ms/step - loss: 2.1404 - accuracy: 0.6071\n",
      "Epoch 6/19\n",
      "1/1 [==============================] - 0s 12ms/step - loss: 2.0798 - accuracy: 0.6786\n",
      "Epoch 7/19\n",
      "1/1 [==============================] - 0s 13ms/step - loss: 2.0177 - accuracy: 0.7500\n",
      "Epoch 8/19\n",
      "1/1 [==============================] - 0s 16ms/step - loss: 1.9544 - accuracy: 0.8214\n",
      "Epoch 9/19\n",
      "1/1 [==============================] - 0s 13ms/step - loss: 1.8906 - accuracy: 0.8214\n",
      "Epoch 10/19\n",
      "1/1 [==============================] - 0s 12ms/step - loss: 1.8268 - accuracy: 0.8214\n",
      "Epoch 11/19\n",
      "1/1 [==============================] - 0s 10ms/step - loss: 1.7635 - accuracy: 0.8214\n",
      "Epoch 12/19\n",
      "1/1 [==============================] - 0s 10ms/step - loss: 1.7012 - accuracy: 0.8571\n",
      "Epoch 13/19\n",
      "1/1 [==============================] - 0s 11ms/step - loss: 1.6401 - accuracy: 0.8929\n",
      "Epoch 14/19\n",
      "1/1 [==============================] - 0s 12ms/step - loss: 1.5804 - accuracy: 0.8929\n",
      "Epoch 15/19\n",
      "1/1 [==============================] - 0s 11ms/step - loss: 1.5221 - accuracy: 0.9286\n",
      "Epoch 16/19\n",
      "1/1 [==============================] - 0s 9ms/step - loss: 1.4652 - accuracy: 0.9286\n",
      "Epoch 17/19\n",
      "1/1 [==============================] - 0s 9ms/step - loss: 1.4096 - accuracy: 0.9286\n",
      "Epoch 18/19\n",
      "1/1 [==============================] - 0s 13ms/step - loss: 1.3550 - accuracy: 0.9286\n",
      "Epoch 19/19\n",
      "1/1 [==============================] - 0s 26ms/step - loss: 1.3013 - accuracy: 0.9286\n"
     ]
    }
   ],
   "source": [
    "history = model.fit(X, Y, batch_size=32, epochs=19)"
   ]
  },
  {
   "cell_type": "code",
   "execution_count": 41,
   "metadata": {},
   "outputs": [],
   "source": [
    "def buildPhrase(texts, str_len = 20):\n",
    "    res = texts\n",
    "    data = tokenizer.texts_to_sequences([texts])[0]\n",
    "    for i in range(str_len):\n",
    "        x = keras.utils.to_categorical(data[i: i+inp_words], num_classes=maxWordsCount) # преобразуем в One-Hot-encoding\n",
    "        inp = x.reshape(1, inp_words, maxWordsCount)\n",
    "\n",
    "        pred = model.predict( inp ) # предсказываем OHE четвертого символа\n",
    "        indx = pred.argmax(axis=1)[0]\n",
    "        data.append(indx)\n",
    "\n",
    "        res += f\" {tokenizer.index_word[indx]}\"  # дописываем строку\n",
    "\n",
    "    return res"
   ]
  },
  {
   "cell_type": "code",
   "execution_count": 42,
   "metadata": {},
   "outputs": [
    {
     "ename": "ValueError",
     "evalue": "cannot reshape array of size 0 into shape (1,3,1000)",
     "output_type": "error",
     "traceback": [
      "\u001b[1;31m---------------------------------------------------------------------------\u001b[0m",
      "\u001b[1;31mValueError\u001b[0m                                Traceback (most recent call last)",
      "Cell \u001b[1;32mIn[42], line 1\u001b[0m\n\u001b[1;32m----> 1\u001b[0m res \u001b[38;5;241m=\u001b[39m \u001b[43mbuildPhrase\u001b[49m\u001b[43m(\u001b[49m\u001b[38;5;124;43m\"\u001b[39;49m\u001b[38;5;124;43mпозитив добавляет годы\u001b[39;49m\u001b[38;5;124;43m\"\u001b[39;49m\u001b[43m)\u001b[49m\n\u001b[0;32m      2\u001b[0m \u001b[38;5;28mprint\u001b[39m(res)\n",
      "Cell \u001b[1;32mIn[41], line 6\u001b[0m, in \u001b[0;36mbuildPhrase\u001b[1;34m(texts, str_len)\u001b[0m\n\u001b[0;32m      4\u001b[0m \u001b[38;5;28;01mfor\u001b[39;00m i \u001b[38;5;129;01min\u001b[39;00m \u001b[38;5;28mrange\u001b[39m(str_len):\n\u001b[0;32m      5\u001b[0m     x \u001b[38;5;241m=\u001b[39m keras\u001b[38;5;241m.\u001b[39mutils\u001b[38;5;241m.\u001b[39mto_categorical(data[i: i\u001b[38;5;241m+\u001b[39minp_words], num_classes\u001b[38;5;241m=\u001b[39mmaxWordsCount) \u001b[38;5;66;03m# преобразуем в One-Hot-encoding\u001b[39;00m\n\u001b[1;32m----> 6\u001b[0m     inp \u001b[38;5;241m=\u001b[39m \u001b[43mx\u001b[49m\u001b[38;5;241;43m.\u001b[39;49m\u001b[43mreshape\u001b[49m\u001b[43m(\u001b[49m\u001b[38;5;241;43m1\u001b[39;49m\u001b[43m,\u001b[49m\u001b[43m \u001b[49m\u001b[43minp_words\u001b[49m\u001b[43m,\u001b[49m\u001b[43m \u001b[49m\u001b[43mmaxWordsCount\u001b[49m\u001b[43m)\u001b[49m\n\u001b[0;32m      8\u001b[0m     pred \u001b[38;5;241m=\u001b[39m model\u001b[38;5;241m.\u001b[39mpredict( inp ) \u001b[38;5;66;03m# предсказываем OHE четвертого символа\u001b[39;00m\n\u001b[0;32m      9\u001b[0m     indx \u001b[38;5;241m=\u001b[39m pred\u001b[38;5;241m.\u001b[39margmax(axis\u001b[38;5;241m=\u001b[39m\u001b[38;5;241m1\u001b[39m)[\u001b[38;5;241m0\u001b[39m]\n",
      "\u001b[1;31mValueError\u001b[0m: cannot reshape array of size 0 into shape (1,3,1000)"
     ]
    }
   ],
   "source": [
    "res = buildPhrase(\"позитив добавляет годы\")\n",
    "print(res)"
   ]
  }
 ],
 "metadata": {
  "kernelspec": {
   "display_name": ".venv",
   "language": "python",
   "name": "python3"
  },
  "language_info": {
   "codemirror_mode": {
    "name": "ipython",
    "version": 3
   },
   "file_extension": ".py",
   "mimetype": "text/x-python",
   "name": "python",
   "nbconvert_exporter": "python",
   "pygments_lexer": "ipython3",
   "version": "3.11.8"
  }
 },
 "nbformat": 4,
 "nbformat_minor": 2
}
